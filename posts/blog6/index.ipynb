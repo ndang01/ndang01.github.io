{
 "cells": [
  {
   "cell_type": "raw",
   "metadata": {},
   "source": [
    "---\n",
    "title: Dr. Timmit Gebru\n",
    "author: Nhi Dang\n",
    "date: '2023-04-16'\n",
    "image: \"image.jpg\"\n",
    "description: \"This blog post is a reflection on Dr. Gebru's work and her visit at Middlebury College.\"\n",
    "format: \n",
    "  html: \n",
    "    code-fold: show\n",
    "---"
   ]
  },
  {
   "attachments": {},
   "cell_type": "markdown",
   "metadata": {},
   "source": [
    "Dr. Timnit Gebru is a renowned computer scientist and a leading voice in the field of artificial intelligence. She was born and raised in Ethiopia and later earned her PhD from Stanford University in Electrical Engineering. Dr. Gebru is best known for her work on bias and fairness in AI, and she has been instrumental in bringing attention to the issue of under-representation of women and minorities in the tech industry. In addition to her research, Dr. Gebru is also a co-founder of Black in AI, an organization dedicated to increasing representation of Black people in AI research and industry. She has been recognized with numerous awards for her contributions to the field, including being named one of the 100 most influential African Americans by The Root magazine.\n",
    "\n",
    "On April 24th, 2023, Dr. Gebru will give a virtual talk at Middlebury College discussing bias social impacts of artificial intelligence. "
   ]
  },
  {
   "attachments": {},
   "cell_type": "markdown",
   "metadata": {},
   "source": [
    "## \"Computer vision in practice: who is benefiting and who is being harmed?\"\n",
    "\n",
    "In 2020, Dr. Gebru gave a talk as part of a Tutorial on Fairness, Accountability, Transparency, and Ethics (FATE) in Computer Vision at the conference on Computer Vision and Pattern Recognition 2020. In the talk, Dr. Gebru raised several important points about the need for fairness and ethical considerations in computer vision and machine learning. \n",
    "\n",
    "Dr. Gebru focused on the issue of bias in different computer vision systems. She highlighted that many computer vision systems are trained on biased and limited datasets, which can lead to discriminatory outcomes. For example, facial recognition systems have been shown to have higher error rates for women and people with darker skin tones, as compared to white males. Thus, Dr. Gebru emphasized the importance of addressing bias in these systems and called for greater diversity in the datasets used to train them.\n",
    "\n",
    "Additionally, she discussed the need for transparency and accountability in the development and deployment of machine learning models. She argued that it is crucial to understand how these models work and to be able to identify when they are making mistakes. Moreover, Dr. Gebru emphasized the importance of allowing individuals to understand and control the data that is being collected about them, especially the communities most affected by these computer vision systems. She argued that these communities should have a say in how the systems are designed and used, and that their perspectives should be taken into account when making decisions about the technology. \n",
    "\n",
    "Dr. Gebru also called for greater awareness and education around the ethical implications of computer vision technology. She emphasized the need for researchers, developers, and policymakers to work together to ensure that these systems are developed in ways that are fair, transparent, and accountable. \n",
    "\n",
    "Overall, her talk was a powerful call to action for the computer vision community to prioritize fairness and ethics in their work. \n",
    "\n",
    "\n",
    "## tl;dr\n",
    "There is a strong need for greater diversity, transparency, and community involvement in the development of computer vision systems because these systems can unintentionally create harm to many groups of people. "
   ]
  },
  {
   "attachments": {},
   "cell_type": "markdown",
   "metadata": {},
   "source": [
    "## Proposed Question:\n",
    "\n",
    "1. How do you propose ethics and biases in the field of computer science should be taught to better improve the curriculum?\n"
   ]
  },
  {
   "attachments": {},
   "cell_type": "markdown",
   "metadata": {},
   "source": [
    "# Dr. Gebru's talk at Middlebury\n",
    "\n",
    "Dr. Gebru opened her talk with the topic of the exploitation of cheap labor behind artificial intelligence. As an example, OpenAI, a well established artificial intelligence research laboratory in the U.S., outsources labor from Kenya for merely $2 per hour to moderate content on their sites. There is no stable workplace and these workers cannot advocate for themselves against these huge cooperations. Through a system of third-party subcontracts, the companies that gain the most from underpaid labor are removed from being liable for their workers. Thus, Dr. Gebru seeks to mitigate the harm brought on by AI and imagine a different technological future through her work as a computer scientist. \n",
    "\n",
    "\n",
    "Dr. Gebru went on to explain the negative impacts of AGI and its connection to the second wave eugenics. Even though the definitions of AGI are still unclear, it is thought to be highly autonomous systems that outperform humans at most economically valuable work. Dr. Gebru highlights the connections between AGI and the properties of the TESCREAL Bundle: transhumanism, extropianism, singularitarianism, cosmism, rationalism, effective altruism, and longtermism. These ideas influence the trajectory of AGI as people race to create larger language models that will get us closer to the AGI utopia.\n",
    "\n",
    "So, what is AGI utopia? Dr. Gebru describes it as two possible scenarios: \n",
    "1. AGI will be so intelligent that it will figure out a solution for everything\n",
    "2. “Morally superior” AGI will enhance human minds beyond what humans are currently capable of and the cosmos will benefit this transformation.\n",
    "\n",
    "\"But utopia for whom?\", asked Dr. Gebru. \n",
    "\n",
    "To end her talk, Dr. Gebru emphasized the need for AI safety and more regulations within the tech industry. The people behind the funding and deployment of these technology are the ones who should be held accountable. \n",
    "\n",
    "Overall, I found Dr. Gebru's talk to be very interesting. It brought up a lot of questions I had never thought of before. I believe it is very important to have critical conversations about the ethics of machine learning, especially with the rise of these technologies. I agree that there need to be more regulations in this field and companies must be held accountable for their workers. No one should be paid $2 an hour, especially if they are spending hours screening out harmful content while the company they work for is . \n",
    "\n",
    "Additionally, I find Dr. Gebru's comment about imposter syndrome very empowering. As a woman of color in this major, I often find myself feeling not as smart as my classmates - who are majority white men. However, Dr. Gebru made a very good point that this may not be imposter syndrome after all. Instead, we need to reorient ourselves from what we feel is lacking in us to what this system makes us feel about ourselves. \n",
    "\n",
    "Moreover, I thought her point about AGI being the next wave of eugenics to be very progressive. Even though she provided a lot of parallels between the two, I wished she had gone more in depth to explain the connections between them. I felt that the main theories connecting AGI to eugenics were somewhat skimmed past during the talk. When the argument of effective altruism was brought up, I was not and I'm still not sure which side I stand on. Since I had no background knowledge on this topic, it was difficult to witness the heated disagreement between the student and Dr. Gebru. Thus, I think it could've been more helpful if Dr. Gebru had explained more on that topic in her talk. I think Dr. Gebru brought up a lot of novel theories, but lacked the depth to help the audience understand her points better. However, I still find her to be a very impressive computer scientist and I'm glad to have gained new perspectives on the ethics of AI. "
   ]
  }
 ],
 "metadata": {
  "language_info": {
   "name": "python"
  },
  "orig_nbformat": 4
 },
 "nbformat": 4,
 "nbformat_minor": 2
}
