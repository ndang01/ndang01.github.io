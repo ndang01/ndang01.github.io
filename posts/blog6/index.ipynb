{
 "cells": [
  {
   "cell_type": "raw",
   "metadata": {},
   "source": [
    "---\n",
    "title: Dr. Timmit Gebru\n",
    "author: Nhi Dang\n",
    "date: '2023-04-16'\n",
    "image: \"image.jpg\"\n",
    "description: \"This blog post is a reflection on Dr. Gebru's work and her visit at Middlebury College.\"\n",
    "format: \n",
    "  html: \n",
    "    code-fold: show\n",
    "---"
   ]
  },
  {
   "attachments": {},
   "cell_type": "markdown",
   "metadata": {},
   "source": [
    "Dr. Timnit Gebru is a renowned computer scientist and a leading voice in the field of artificial intelligence. She was born and raised in Ethiopia and later earned her PhD from Stanford University in Electrical Engineering. Dr. Gebru is best known for her work on bias and fairness in AI, and she has been instrumental in bringing attention to the issue of under-representation of women and minorities in the tech industry. In addition to her research, Dr. Gebru is also a co-founder of Black in AI, an organization dedicated to increasing representation of Black people in AI research and industry. She has been recognized with numerous awards for her contributions to the field, including being named one of the 100 most influential African Americans by The Root magazine.\n",
    "\n",
    "On April 24th, 2023, Dr. Gebru will give a virtual talk at Middlebury College discussing bias social impacts of artificial intelligence. "
   ]
  },
  {
   "attachments": {},
   "cell_type": "markdown",
   "metadata": {},
   "source": [
    "## \"Computer vision in practice: who is benefiting and who is being harmed?\"\n",
    "\n",
    "In 2020, Dr. Gebru gave a talk as part of a Tutorial on Fairness, Accountability, Transparency, and Ethics (FATE) in Computer Vision at the conference on Computer Vision and Pattern Recognition 2020. In the talk, Dr. Gebru raised several important points about the need for fairness and ethical considerations in computer vision and machine learning. \n",
    "\n",
    "Dr. Gebru focused on the issue of bias in different computer vision systems. She highlighted that many computer vision systems are trained on biased and limited datasets, which can lead to discriminatory outcomes. For example, facial recognition systems have been shown to have higher error rates for women and people with darker skin tones, as compared to white males. Thus, Dr. Gebru emphasized the importance of addressing bias in these systems and called for greater diversity in the datasets used to train them.\n",
    "\n",
    "Additionally, she discussed the need for transparency and accountability in the development and deployment of machine learning models. She argued that it is crucial to understand how these models work and to be able to identify when they are making mistakes. Moreover, Dr. Gebru emphasized the importance of allowing individuals to understand and control the data that is being collected about them, especially the communities most affected by these computer vision systems. She argued that these communities should have a say in how the systems are designed and used, and that their perspectives should be taken into account when making decisions about the technology. \n",
    "\n",
    "Dr. Gebru also called for greater awareness and education around the ethical implications of computer vision technology. She emphasized the need for researchers, developers, and policymakers to work together to ensure that these systems are developed in ways that are fair, transparent, and accountable. \n",
    "\n",
    "Overall, her talk was a powerful call to action for the computer vision community to prioritize fairness and ethics in their work. \n",
    "\n",
    "\n",
    "## tl;dr\n",
    "There is a strong need for greater diversity, transparency, and community involvement in the development of computer vision systems because these systems can unintentionally create harm to many groups of people. "
   ]
  },
  {
   "attachments": {},
   "cell_type": "markdown",
   "metadata": {},
   "source": [
    "## Proposed Question:\n",
    "\n",
    "1. How do you propose ethics and biases in the field of computer science should be taught to better improve the curriculum?\n"
   ]
  }
 ],
 "metadata": {
  "language_info": {
   "name": "python"
  },
  "orig_nbformat": 4
 },
 "nbformat": 4,
 "nbformat_minor": 2
}
