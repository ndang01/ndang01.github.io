{
  "cells": [
    {
      "cell_type": "raw",
      "metadata": {},
      "source": [
        "---\n",
        "title: \"How machine learning can aid in wildfire prediction\"\n",
        "authors: Nhi Dang (in collaboration with Wright Frost, Madeleine Gallop, and Eliza Wieman)\n",
        "date: '2023-05-18'\n",
        "image: \"image.png\"\n",
        "description: \"This blog uses different machine learning models to better understand forest fires in Algeria and Portugal.\"\n",
        "format: \n",
        "  html: \n",
        "    code-fold: true\n",
        "---"
      ]
    },
    {
      "attachments": {},
      "cell_type": "markdown",
      "metadata": {
        "id": "tQnMuHXOWBC4"
      },
      "source": [
        "# Overview\n",
        "\n",
        "Climate change has increased the likelihood of a variety of extreme weather events, including wildfires. These wildfires pose risks to both human and ecological communities. Thus, our project will ultilize different machine learning models to better understand forest fires in two different areas: Algeria and Portugal. \n",
        "\n",
        "First, we want to predict the area of different forest fires occurring in Portugal by selecting a machine learning model and applying it to a dataset taken from University of California Irvine. Second, we will train on a different dataset detailing fires in Algeria to predict the likelihood of fires occurring. Then, we hope to use the models trained on these datasets to create a map of areas at-risk of forest fires in the United States."
      ]
    },
    {
      "attachments": {},
      "cell_type": "markdown",
      "metadata": {
        "id": "TIeArPrqFVx9"
      },
      "source": [
        "# The Datasets\n",
        "\n",
        "Below are the datasets that will be used in this project. These were taken from the Univeristy of California Irvine Machine Learning Repository. Our first dataset, the Algerian Forest Fires Dataset, contains fire and non-fire events with 11 attributes that describe weather characteristics at the time of that event. Our second dataset, the Forest Fires Dataset, contains data from Montesinho National Park, Portugal. This dataset contains many of the same weather characteristics as the Algerian dataset, but has only fire events. Rather than using this dataset to predict whether a fire occurred in a given area, it can be used to predict the size of a fire. "
      ]
    },
    {
      "cell_type": "code",
      "execution_count": null,
      "metadata": {
        "id": "614OqHwUDc-9"
      },
      "outputs": [],
      "source": [
        "import pandas as pd\n",
        "import numpy as np\n",
        "from sklearn.model_selection import train_test_split\n",
        "from sklearn.linear_model import RidgeCV\n",
        "from matplotlib import pyplot as plt\n",
        "from sklearn.feature_selection import SelectFromModel\n"
      ]
    },
    {
      "cell_type": "code",
      "execution_count": null,
      "metadata": {
        "id": "RX_TWAqkB2su"
      },
      "outputs": [],
      "source": [
        "algeria_url = 'https://raw.githubusercontent.com/ebwieman/wildfire-risk-tool/main/Algerian_forest_fires_dataset.csv'\n",
        "portugal_url = 'https://raw.githubusercontent.com/ebwieman/wildfire-risk-tool/main/forestfires.csv'\n",
        "\n",
        "algeria_df = pd.read_csv(algeria_url)\n",
        "portugal_df = pd.read_csv(portugal_url)"
      ]
    },
    {
      "attachments": {},
      "cell_type": "markdown",
      "metadata": {
        "id": "gwp68QPaZ4CN"
      },
      "source": [
        "# Data Preparation\n",
        "\n",
        "## The Algeria Dataset:\n",
        "\n",
        "This dataset includes 244 instances that regrouped data from two regions of Algeria, namely the Bejaia region located in the northeast of Algeria and the Sidi Bel-abbes region located in the northwest of Algeria. There are 122 instances for each region. This data was collected from June 2012 to September 2012. The dataset contains fire and non-fire events with 13 attributes that describe weather characteristics at the time of that event. \n",
        "\n",
        "Before training the dataset on our machine learning models, we will clean up some of the data. To do this, we'll convert the target label \"Fire\" into binary numbers. We use “one-hot encoding” to achieve this, in which each category is represented by a binary column, with a 1 indicating that the a forest fire occured given the conditions. In addition, we will remove any rows with missing data. "
      ]
    },
    {
      "cell_type": "code",
      "execution_count": null,
      "metadata": {
        "colab": {
          "base_uri": "https://localhost:8080/",
          "height": 419
        },
        "id": "TLhtLzm4EMAn",
        "outputId": "9dcda704-a4b3-4174-f22e-3b416965a971"
      },
      "outputs": [
        {
          "data": {
            "text/html": [
              "\n",
              "  <div id=\"df-5ed33369-7346-4599-95e5-46cb192ea1e7\">\n",
              "    <div class=\"colab-df-container\">\n",
              "      <div>\n",
              "<style scoped>\n",
              "    .dataframe tbody tr th:only-of-type {\n",
              "        vertical-align: middle;\n",
              "    }\n",
              "\n",
              "    .dataframe tbody tr th {\n",
              "        vertical-align: top;\n",
              "    }\n",
              "\n",
              "    .dataframe thead th {\n",
              "        text-align: right;\n",
              "    }\n",
              "</style>\n",
              "<table border=\"1\" class=\"dataframe\">\n",
              "  <thead>\n",
              "    <tr style=\"text-align: right;\">\n",
              "      <th></th>\n",
              "      <th>day</th>\n",
              "      <th>month</th>\n",
              "      <th>year</th>\n",
              "      <th>Temperature</th>\n",
              "      <th>RH</th>\n",
              "      <th>Ws</th>\n",
              "      <th>Rain</th>\n",
              "      <th>FFMC</th>\n",
              "      <th>DMC</th>\n",
              "      <th>DC</th>\n",
              "      <th>ISI</th>\n",
              "      <th>BUI</th>\n",
              "      <th>FWI</th>\n",
              "      <th>Fire</th>\n",
              "    </tr>\n",
              "  </thead>\n",
              "  <tbody>\n",
              "    <tr>\n",
              "      <th>0</th>\n",
              "      <td>1.0</td>\n",
              "      <td>6.0</td>\n",
              "      <td>2012.0</td>\n",
              "      <td>29.0</td>\n",
              "      <td>57.0</td>\n",
              "      <td>18.0</td>\n",
              "      <td>0.0</td>\n",
              "      <td>65.7</td>\n",
              "      <td>3.4</td>\n",
              "      <td>7.6</td>\n",
              "      <td>1.3</td>\n",
              "      <td>3.4</td>\n",
              "      <td>0.5</td>\n",
              "      <td>0.0</td>\n",
              "    </tr>\n",
              "    <tr>\n",
              "      <th>1</th>\n",
              "      <td>2.0</td>\n",
              "      <td>6.0</td>\n",
              "      <td>2012.0</td>\n",
              "      <td>29.0</td>\n",
              "      <td>61.0</td>\n",
              "      <td>13.0</td>\n",
              "      <td>1.3</td>\n",
              "      <td>64.4</td>\n",
              "      <td>4.1</td>\n",
              "      <td>7.6</td>\n",
              "      <td>1.0</td>\n",
              "      <td>3.9</td>\n",
              "      <td>0.4</td>\n",
              "      <td>0.0</td>\n",
              "    </tr>\n",
              "    <tr>\n",
              "      <th>2</th>\n",
              "      <td>3.0</td>\n",
              "      <td>6.0</td>\n",
              "      <td>2012.0</td>\n",
              "      <td>26.0</td>\n",
              "      <td>82.0</td>\n",
              "      <td>22.0</td>\n",
              "      <td>13.1</td>\n",
              "      <td>47.1</td>\n",
              "      <td>2.5</td>\n",
              "      <td>7.1</td>\n",
              "      <td>0.3</td>\n",
              "      <td>2.7</td>\n",
              "      <td>0.1</td>\n",
              "      <td>0.0</td>\n",
              "    </tr>\n",
              "    <tr>\n",
              "      <th>3</th>\n",
              "      <td>4.0</td>\n",
              "      <td>6.0</td>\n",
              "      <td>2012.0</td>\n",
              "      <td>25.0</td>\n",
              "      <td>89.0</td>\n",
              "      <td>13.0</td>\n",
              "      <td>2.5</td>\n",
              "      <td>28.6</td>\n",
              "      <td>1.3</td>\n",
              "      <td>6.9</td>\n",
              "      <td>0.0</td>\n",
              "      <td>1.7</td>\n",
              "      <td>0.0</td>\n",
              "      <td>0.0</td>\n",
              "    </tr>\n",
              "    <tr>\n",
              "      <th>4</th>\n",
              "      <td>5.0</td>\n",
              "      <td>6.0</td>\n",
              "      <td>2012.0</td>\n",
              "      <td>27.0</td>\n",
              "      <td>77.0</td>\n",
              "      <td>16.0</td>\n",
              "      <td>0.0</td>\n",
              "      <td>64.8</td>\n",
              "      <td>3.0</td>\n",
              "      <td>14.2</td>\n",
              "      <td>1.2</td>\n",
              "      <td>3.9</td>\n",
              "      <td>0.5</td>\n",
              "      <td>0.0</td>\n",
              "    </tr>\n",
              "    <tr>\n",
              "      <th>...</th>\n",
              "      <td>...</td>\n",
              "      <td>...</td>\n",
              "      <td>...</td>\n",
              "      <td>...</td>\n",
              "      <td>...</td>\n",
              "      <td>...</td>\n",
              "      <td>...</td>\n",
              "      <td>...</td>\n",
              "      <td>...</td>\n",
              "      <td>...</td>\n",
              "      <td>...</td>\n",
              "      <td>...</td>\n",
              "      <td>...</td>\n",
              "      <td>...</td>\n",
              "    </tr>\n",
              "    <tr>\n",
              "      <th>242</th>\n",
              "      <td>26.0</td>\n",
              "      <td>9.0</td>\n",
              "      <td>2012.0</td>\n",
              "      <td>30.0</td>\n",
              "      <td>65.0</td>\n",
              "      <td>14.0</td>\n",
              "      <td>0.0</td>\n",
              "      <td>85.4</td>\n",
              "      <td>16.0</td>\n",
              "      <td>44.5</td>\n",
              "      <td>4.5</td>\n",
              "      <td>16.9</td>\n",
              "      <td>6.5</td>\n",
              "      <td>1.0</td>\n",
              "    </tr>\n",
              "    <tr>\n",
              "      <th>243</th>\n",
              "      <td>27.0</td>\n",
              "      <td>9.0</td>\n",
              "      <td>2012.0</td>\n",
              "      <td>28.0</td>\n",
              "      <td>87.0</td>\n",
              "      <td>15.0</td>\n",
              "      <td>4.4</td>\n",
              "      <td>41.1</td>\n",
              "      <td>6.5</td>\n",
              "      <td>8.0</td>\n",
              "      <td>0.1</td>\n",
              "      <td>6.2</td>\n",
              "      <td>0.0</td>\n",
              "      <td>0.0</td>\n",
              "    </tr>\n",
              "    <tr>\n",
              "      <th>244</th>\n",
              "      <td>28.0</td>\n",
              "      <td>9.0</td>\n",
              "      <td>2012.0</td>\n",
              "      <td>27.0</td>\n",
              "      <td>87.0</td>\n",
              "      <td>29.0</td>\n",
              "      <td>0.5</td>\n",
              "      <td>45.9</td>\n",
              "      <td>3.5</td>\n",
              "      <td>7.9</td>\n",
              "      <td>0.4</td>\n",
              "      <td>3.4</td>\n",
              "      <td>0.2</td>\n",
              "      <td>0.0</td>\n",
              "    </tr>\n",
              "    <tr>\n",
              "      <th>245</th>\n",
              "      <td>29.0</td>\n",
              "      <td>9.0</td>\n",
              "      <td>2012.0</td>\n",
              "      <td>24.0</td>\n",
              "      <td>54.0</td>\n",
              "      <td>18.0</td>\n",
              "      <td>0.1</td>\n",
              "      <td>79.7</td>\n",
              "      <td>4.3</td>\n",
              "      <td>15.2</td>\n",
              "      <td>1.7</td>\n",
              "      <td>5.1</td>\n",
              "      <td>0.7</td>\n",
              "      <td>0.0</td>\n",
              "    </tr>\n",
              "    <tr>\n",
              "      <th>246</th>\n",
              "      <td>30.0</td>\n",
              "      <td>9.0</td>\n",
              "      <td>2012.0</td>\n",
              "      <td>24.0</td>\n",
              "      <td>64.0</td>\n",
              "      <td>15.0</td>\n",
              "      <td>0.2</td>\n",
              "      <td>67.3</td>\n",
              "      <td>3.8</td>\n",
              "      <td>16.5</td>\n",
              "      <td>1.2</td>\n",
              "      <td>4.8</td>\n",
              "      <td>0.5</td>\n",
              "      <td>0.0</td>\n",
              "    </tr>\n",
              "  </tbody>\n",
              "</table>\n",
              "<p>243 rows × 14 columns</p>\n",
              "</div>\n",
              "      <button class=\"colab-df-convert\" onclick=\"convertToInteractive('df-5ed33369-7346-4599-95e5-46cb192ea1e7')\"\n",
              "              title=\"Convert this dataframe to an interactive table.\"\n",
              "              style=\"display:none;\">\n",
              "        \n",
              "  <svg xmlns=\"http://www.w3.org/2000/svg\" height=\"24px\"viewBox=\"0 0 24 24\"\n",
              "       width=\"24px\">\n",
              "    <path d=\"M0 0h24v24H0V0z\" fill=\"none\"/>\n",
              "    <path d=\"M18.56 5.44l.94 2.06.94-2.06 2.06-.94-2.06-.94-.94-2.06-.94 2.06-2.06.94zm-11 1L8.5 8.5l.94-2.06 2.06-.94-2.06-.94L8.5 2.5l-.94 2.06-2.06.94zm10 10l.94 2.06.94-2.06 2.06-.94-2.06-.94-.94-2.06-.94 2.06-2.06.94z\"/><path d=\"M17.41 7.96l-1.37-1.37c-.4-.4-.92-.59-1.43-.59-.52 0-1.04.2-1.43.59L10.3 9.45l-7.72 7.72c-.78.78-.78 2.05 0 2.83L4 21.41c.39.39.9.59 1.41.59.51 0 1.02-.2 1.41-.59l7.78-7.78 2.81-2.81c.8-.78.8-2.07 0-2.86zM5.41 20L4 18.59l7.72-7.72 1.47 1.35L5.41 20z\"/>\n",
              "  </svg>\n",
              "      </button>\n",
              "      \n",
              "  <style>\n",
              "    .colab-df-container {\n",
              "      display:flex;\n",
              "      flex-wrap:wrap;\n",
              "      gap: 12px;\n",
              "    }\n",
              "\n",
              "    .colab-df-convert {\n",
              "      background-color: #E8F0FE;\n",
              "      border: none;\n",
              "      border-radius: 50%;\n",
              "      cursor: pointer;\n",
              "      display: none;\n",
              "      fill: #1967D2;\n",
              "      height: 32px;\n",
              "      padding: 0 0 0 0;\n",
              "      width: 32px;\n",
              "    }\n",
              "\n",
              "    .colab-df-convert:hover {\n",
              "      background-color: #E2EBFA;\n",
              "      box-shadow: 0px 1px 2px rgba(60, 64, 67, 0.3), 0px 1px 3px 1px rgba(60, 64, 67, 0.15);\n",
              "      fill: #174EA6;\n",
              "    }\n",
              "\n",
              "    [theme=dark] .colab-df-convert {\n",
              "      background-color: #3B4455;\n",
              "      fill: #D2E3FC;\n",
              "    }\n",
              "\n",
              "    [theme=dark] .colab-df-convert:hover {\n",
              "      background-color: #434B5C;\n",
              "      box-shadow: 0px 1px 3px 1px rgba(0, 0, 0, 0.15);\n",
              "      filter: drop-shadow(0px 1px 2px rgba(0, 0, 0, 0.3));\n",
              "      fill: #FFFFFF;\n",
              "    }\n",
              "  </style>\n",
              "\n",
              "      <script>\n",
              "        const buttonEl =\n",
              "          document.querySelector('#df-5ed33369-7346-4599-95e5-46cb192ea1e7 button.colab-df-convert');\n",
              "        buttonEl.style.display =\n",
              "          google.colab.kernel.accessAllowed ? 'block' : 'none';\n",
              "\n",
              "        async function convertToInteractive(key) {\n",
              "          const element = document.querySelector('#df-5ed33369-7346-4599-95e5-46cb192ea1e7');\n",
              "          const dataTable =\n",
              "            await google.colab.kernel.invokeFunction('convertToInteractive',\n",
              "                                                     [key], {});\n",
              "          if (!dataTable) return;\n",
              "\n",
              "          const docLinkHtml = 'Like what you see? Visit the ' +\n",
              "            '<a target=\"_blank\" href=https://colab.research.google.com/notebooks/data_table.ipynb>data table notebook</a>'\n",
              "            + ' to learn more about interactive tables.';\n",
              "          element.innerHTML = '';\n",
              "          dataTable['output_type'] = 'display_data';\n",
              "          await google.colab.output.renderOutput(dataTable, element);\n",
              "          const docLink = document.createElement('div');\n",
              "          docLink.innerHTML = docLinkHtml;\n",
              "          element.appendChild(docLink);\n",
              "        }\n",
              "      </script>\n",
              "    </div>\n",
              "  </div>\n",
              "  "
            ],
            "text/plain": [
              "      day  month    year  Temperature    RH    Ws  Rain   FFMC   DMC    DC  \\\n",
              "0     1.0    6.0  2012.0         29.0  57.0  18.0    0.0  65.7   3.4   7.6   \n",
              "1     2.0    6.0  2012.0         29.0  61.0  13.0    1.3  64.4   4.1   7.6   \n",
              "2     3.0    6.0  2012.0         26.0  82.0  22.0   13.1  47.1   2.5   7.1   \n",
              "3     4.0    6.0  2012.0         25.0  89.0  13.0    2.5  28.6   1.3   6.9   \n",
              "4     5.0    6.0  2012.0         27.0  77.0  16.0    0.0  64.8   3.0  14.2   \n",
              "..    ...    ...     ...          ...   ...   ...    ...   ...   ...   ...   \n",
              "242  26.0    9.0  2012.0         30.0  65.0  14.0    0.0  85.4  16.0  44.5   \n",
              "243  27.0    9.0  2012.0         28.0  87.0  15.0    4.4  41.1   6.5   8.0   \n",
              "244  28.0    9.0  2012.0         27.0  87.0  29.0    0.5  45.9   3.5   7.9   \n",
              "245  29.0    9.0  2012.0         24.0  54.0  18.0    0.1  79.7   4.3  15.2   \n",
              "246  30.0    9.0  2012.0         24.0  64.0  15.0    0.2  67.3   3.8  16.5   \n",
              "\n",
              "     ISI   BUI  FWI  Fire  \n",
              "0    1.3   3.4  0.5   0.0  \n",
              "1    1.0   3.9  0.4   0.0  \n",
              "2    0.3   2.7  0.1   0.0  \n",
              "3    0.0   1.7  0.0   0.0  \n",
              "4    1.2   3.9  0.5   0.0  \n",
              "..   ...   ...  ...   ...  \n",
              "242  4.5  16.9  6.5   1.0  \n",
              "243  0.1   6.2  0.0   0.0  \n",
              "244  0.4   3.4  0.2   0.0  \n",
              "245  1.7   5.1  0.7   0.0  \n",
              "246  1.2   4.8  0.5   0.0  \n",
              "\n",
              "[243 rows x 14 columns]"
            ]
          },
          "execution_count": 3,
          "metadata": {},
          "output_type": "execute_result"
        }
      ],
      "source": [
        "algeria_df['Classes'] = algeria_df['Classes'].str.strip()\n",
        "algeria_df.drop(algeria_df[(algeria_df['Classes'] != 'fire') & (algeria_df['Classes'] != 'not fire')].index, inplace=True)\n",
        "algeria_df['Classes'].unique()\n",
        "\n",
        "algeria_df['Classes'].replace(('not fire', 'fire'),(0,1),inplace = True)\n",
        "algeria_df.rename(columns = {'Classes': 'Fire'},inplace = True)\n",
        "algeria_df['Fire'].unique()\n",
        "\n",
        "algeria_df = algeria_df.astype(float)\n",
        "algeria_df = pd.get_dummies(algeria_df)\n",
        "algeria_df.dropna(axis = 0)\n",
        "\n",
        "algeria_df"
      ]
    },
    {
      "attachments": {},
      "cell_type": "markdown",
      "metadata": {
        "id": "gE6ODQW9vrkA"
      },
      "source": [
        "There are a total of 13 features: day, month, year, temperature in Celsius, relative humidity, wind speed, rain, fine fuel moisture code, duff moisture code, drought code, initial speed index, build up index, and fire weather index. Our target label is \"fire\", classifying wether or not a forest fire occured given the conditions."
      ]
    },
    {
      "attachments": {},
      "cell_type": "markdown",
      "metadata": {
        "id": "fH_2oYG1XUtY"
      },
      "source": [
        "## The Portugal Dataset:\n",
        "\n",
        "The data collected in this dataset was taken from Montesino park in the northeast region of Portugal. This dataset contains many of the same weather characteristics as the Algerian dataset, but contains only fire events.  Rather than using this dataset to predict whether a fire occurred in a given area, it can be used to predict the size of a fire. We will perform the same cleanup for the Portugal dataset using the Pandas function get_dummies(). \n"
      ]
    },
    {
      "cell_type": "code",
      "execution_count": null,
      "metadata": {
        "colab": {
          "base_uri": "https://localhost:8080/",
          "height": 483
        },
        "id": "2RLCqtJwFJFq",
        "outputId": "5df841a0-a5f2-4e1d-d400-2ffa1d01d1b8"
      },
      "outputs": [
        {
          "data": {
            "text/html": [
              "\n",
              "  <div id=\"df-57725fa5-a270-4a17-b35a-50c2b2ab5287\">\n",
              "    <div class=\"colab-df-container\">\n",
              "      <div>\n",
              "<style scoped>\n",
              "    .dataframe tbody tr th:only-of-type {\n",
              "        vertical-align: middle;\n",
              "    }\n",
              "\n",
              "    .dataframe tbody tr th {\n",
              "        vertical-align: top;\n",
              "    }\n",
              "\n",
              "    .dataframe thead th {\n",
              "        text-align: right;\n",
              "    }\n",
              "</style>\n",
              "<table border=\"1\" class=\"dataframe\">\n",
              "  <thead>\n",
              "    <tr style=\"text-align: right;\">\n",
              "      <th></th>\n",
              "      <th>X</th>\n",
              "      <th>Y</th>\n",
              "      <th>FFMC</th>\n",
              "      <th>DMC</th>\n",
              "      <th>DC</th>\n",
              "      <th>ISI</th>\n",
              "      <th>temp</th>\n",
              "      <th>RH</th>\n",
              "      <th>wind</th>\n",
              "      <th>rain</th>\n",
              "      <th>...</th>\n",
              "      <th>month_nov</th>\n",
              "      <th>month_oct</th>\n",
              "      <th>month_sep</th>\n",
              "      <th>day_fri</th>\n",
              "      <th>day_mon</th>\n",
              "      <th>day_sat</th>\n",
              "      <th>day_sun</th>\n",
              "      <th>day_thu</th>\n",
              "      <th>day_tue</th>\n",
              "      <th>day_wed</th>\n",
              "    </tr>\n",
              "  </thead>\n",
              "  <tbody>\n",
              "    <tr>\n",
              "      <th>0</th>\n",
              "      <td>7</td>\n",
              "      <td>5</td>\n",
              "      <td>86.2</td>\n",
              "      <td>26.2</td>\n",
              "      <td>94.3</td>\n",
              "      <td>5.1</td>\n",
              "      <td>8.2</td>\n",
              "      <td>51</td>\n",
              "      <td>6.7</td>\n",
              "      <td>0.0</td>\n",
              "      <td>...</td>\n",
              "      <td>0</td>\n",
              "      <td>0</td>\n",
              "      <td>0</td>\n",
              "      <td>1</td>\n",
              "      <td>0</td>\n",
              "      <td>0</td>\n",
              "      <td>0</td>\n",
              "      <td>0</td>\n",
              "      <td>0</td>\n",
              "      <td>0</td>\n",
              "    </tr>\n",
              "    <tr>\n",
              "      <th>1</th>\n",
              "      <td>7</td>\n",
              "      <td>4</td>\n",
              "      <td>90.6</td>\n",
              "      <td>35.4</td>\n",
              "      <td>669.1</td>\n",
              "      <td>6.7</td>\n",
              "      <td>18.0</td>\n",
              "      <td>33</td>\n",
              "      <td>0.9</td>\n",
              "      <td>0.0</td>\n",
              "      <td>...</td>\n",
              "      <td>0</td>\n",
              "      <td>1</td>\n",
              "      <td>0</td>\n",
              "      <td>0</td>\n",
              "      <td>0</td>\n",
              "      <td>0</td>\n",
              "      <td>0</td>\n",
              "      <td>0</td>\n",
              "      <td>1</td>\n",
              "      <td>0</td>\n",
              "    </tr>\n",
              "    <tr>\n",
              "      <th>2</th>\n",
              "      <td>7</td>\n",
              "      <td>4</td>\n",
              "      <td>90.6</td>\n",
              "      <td>43.7</td>\n",
              "      <td>686.9</td>\n",
              "      <td>6.7</td>\n",
              "      <td>14.6</td>\n",
              "      <td>33</td>\n",
              "      <td>1.3</td>\n",
              "      <td>0.0</td>\n",
              "      <td>...</td>\n",
              "      <td>0</td>\n",
              "      <td>1</td>\n",
              "      <td>0</td>\n",
              "      <td>0</td>\n",
              "      <td>0</td>\n",
              "      <td>1</td>\n",
              "      <td>0</td>\n",
              "      <td>0</td>\n",
              "      <td>0</td>\n",
              "      <td>0</td>\n",
              "    </tr>\n",
              "    <tr>\n",
              "      <th>3</th>\n",
              "      <td>8</td>\n",
              "      <td>6</td>\n",
              "      <td>91.7</td>\n",
              "      <td>33.3</td>\n",
              "      <td>77.5</td>\n",
              "      <td>9.0</td>\n",
              "      <td>8.3</td>\n",
              "      <td>97</td>\n",
              "      <td>4.0</td>\n",
              "      <td>0.2</td>\n",
              "      <td>...</td>\n",
              "      <td>0</td>\n",
              "      <td>0</td>\n",
              "      <td>0</td>\n",
              "      <td>1</td>\n",
              "      <td>0</td>\n",
              "      <td>0</td>\n",
              "      <td>0</td>\n",
              "      <td>0</td>\n",
              "      <td>0</td>\n",
              "      <td>0</td>\n",
              "    </tr>\n",
              "    <tr>\n",
              "      <th>4</th>\n",
              "      <td>8</td>\n",
              "      <td>6</td>\n",
              "      <td>89.3</td>\n",
              "      <td>51.3</td>\n",
              "      <td>102.2</td>\n",
              "      <td>9.6</td>\n",
              "      <td>11.4</td>\n",
              "      <td>99</td>\n",
              "      <td>1.8</td>\n",
              "      <td>0.0</td>\n",
              "      <td>...</td>\n",
              "      <td>0</td>\n",
              "      <td>0</td>\n",
              "      <td>0</td>\n",
              "      <td>0</td>\n",
              "      <td>0</td>\n",
              "      <td>0</td>\n",
              "      <td>1</td>\n",
              "      <td>0</td>\n",
              "      <td>0</td>\n",
              "      <td>0</td>\n",
              "    </tr>\n",
              "    <tr>\n",
              "      <th>...</th>\n",
              "      <td>...</td>\n",
              "      <td>...</td>\n",
              "      <td>...</td>\n",
              "      <td>...</td>\n",
              "      <td>...</td>\n",
              "      <td>...</td>\n",
              "      <td>...</td>\n",
              "      <td>...</td>\n",
              "      <td>...</td>\n",
              "      <td>...</td>\n",
              "      <td>...</td>\n",
              "      <td>...</td>\n",
              "      <td>...</td>\n",
              "      <td>...</td>\n",
              "      <td>...</td>\n",
              "      <td>...</td>\n",
              "      <td>...</td>\n",
              "      <td>...</td>\n",
              "      <td>...</td>\n",
              "      <td>...</td>\n",
              "      <td>...</td>\n",
              "    </tr>\n",
              "    <tr>\n",
              "      <th>512</th>\n",
              "      <td>4</td>\n",
              "      <td>3</td>\n",
              "      <td>81.6</td>\n",
              "      <td>56.7</td>\n",
              "      <td>665.6</td>\n",
              "      <td>1.9</td>\n",
              "      <td>27.8</td>\n",
              "      <td>32</td>\n",
              "      <td>2.7</td>\n",
              "      <td>0.0</td>\n",
              "      <td>...</td>\n",
              "      <td>0</td>\n",
              "      <td>0</td>\n",
              "      <td>0</td>\n",
              "      <td>0</td>\n",
              "      <td>0</td>\n",
              "      <td>0</td>\n",
              "      <td>1</td>\n",
              "      <td>0</td>\n",
              "      <td>0</td>\n",
              "      <td>0</td>\n",
              "    </tr>\n",
              "    <tr>\n",
              "      <th>513</th>\n",
              "      <td>2</td>\n",
              "      <td>4</td>\n",
              "      <td>81.6</td>\n",
              "      <td>56.7</td>\n",
              "      <td>665.6</td>\n",
              "      <td>1.9</td>\n",
              "      <td>21.9</td>\n",
              "      <td>71</td>\n",
              "      <td>5.8</td>\n",
              "      <td>0.0</td>\n",
              "      <td>...</td>\n",
              "      <td>0</td>\n",
              "      <td>0</td>\n",
              "      <td>0</td>\n",
              "      <td>0</td>\n",
              "      <td>0</td>\n",
              "      <td>0</td>\n",
              "      <td>1</td>\n",
              "      <td>0</td>\n",
              "      <td>0</td>\n",
              "      <td>0</td>\n",
              "    </tr>\n",
              "    <tr>\n",
              "      <th>514</th>\n",
              "      <td>7</td>\n",
              "      <td>4</td>\n",
              "      <td>81.6</td>\n",
              "      <td>56.7</td>\n",
              "      <td>665.6</td>\n",
              "      <td>1.9</td>\n",
              "      <td>21.2</td>\n",
              "      <td>70</td>\n",
              "      <td>6.7</td>\n",
              "      <td>0.0</td>\n",
              "      <td>...</td>\n",
              "      <td>0</td>\n",
              "      <td>0</td>\n",
              "      <td>0</td>\n",
              "      <td>0</td>\n",
              "      <td>0</td>\n",
              "      <td>0</td>\n",
              "      <td>1</td>\n",
              "      <td>0</td>\n",
              "      <td>0</td>\n",
              "      <td>0</td>\n",
              "    </tr>\n",
              "    <tr>\n",
              "      <th>515</th>\n",
              "      <td>1</td>\n",
              "      <td>4</td>\n",
              "      <td>94.4</td>\n",
              "      <td>146.0</td>\n",
              "      <td>614.7</td>\n",
              "      <td>11.3</td>\n",
              "      <td>25.6</td>\n",
              "      <td>42</td>\n",
              "      <td>4.0</td>\n",
              "      <td>0.0</td>\n",
              "      <td>...</td>\n",
              "      <td>0</td>\n",
              "      <td>0</td>\n",
              "      <td>0</td>\n",
              "      <td>0</td>\n",
              "      <td>0</td>\n",
              "      <td>1</td>\n",
              "      <td>0</td>\n",
              "      <td>0</td>\n",
              "      <td>0</td>\n",
              "      <td>0</td>\n",
              "    </tr>\n",
              "    <tr>\n",
              "      <th>516</th>\n",
              "      <td>6</td>\n",
              "      <td>3</td>\n",
              "      <td>79.5</td>\n",
              "      <td>3.0</td>\n",
              "      <td>106.7</td>\n",
              "      <td>1.1</td>\n",
              "      <td>11.8</td>\n",
              "      <td>31</td>\n",
              "      <td>4.5</td>\n",
              "      <td>0.0</td>\n",
              "      <td>...</td>\n",
              "      <td>1</td>\n",
              "      <td>0</td>\n",
              "      <td>0</td>\n",
              "      <td>0</td>\n",
              "      <td>0</td>\n",
              "      <td>0</td>\n",
              "      <td>0</td>\n",
              "      <td>0</td>\n",
              "      <td>1</td>\n",
              "      <td>0</td>\n",
              "    </tr>\n",
              "  </tbody>\n",
              "</table>\n",
              "<p>517 rows × 30 columns</p>\n",
              "</div>\n",
              "      <button class=\"colab-df-convert\" onclick=\"convertToInteractive('df-57725fa5-a270-4a17-b35a-50c2b2ab5287')\"\n",
              "              title=\"Convert this dataframe to an interactive table.\"\n",
              "              style=\"display:none;\">\n",
              "        \n",
              "  <svg xmlns=\"http://www.w3.org/2000/svg\" height=\"24px\"viewBox=\"0 0 24 24\"\n",
              "       width=\"24px\">\n",
              "    <path d=\"M0 0h24v24H0V0z\" fill=\"none\"/>\n",
              "    <path d=\"M18.56 5.44l.94 2.06.94-2.06 2.06-.94-2.06-.94-.94-2.06-.94 2.06-2.06.94zm-11 1L8.5 8.5l.94-2.06 2.06-.94-2.06-.94L8.5 2.5l-.94 2.06-2.06.94zm10 10l.94 2.06.94-2.06 2.06-.94-2.06-.94-.94-2.06-.94 2.06-2.06.94z\"/><path d=\"M17.41 7.96l-1.37-1.37c-.4-.4-.92-.59-1.43-.59-.52 0-1.04.2-1.43.59L10.3 9.45l-7.72 7.72c-.78.78-.78 2.05 0 2.83L4 21.41c.39.39.9.59 1.41.59.51 0 1.02-.2 1.41-.59l7.78-7.78 2.81-2.81c.8-.78.8-2.07 0-2.86zM5.41 20L4 18.59l7.72-7.72 1.47 1.35L5.41 20z\"/>\n",
              "  </svg>\n",
              "      </button>\n",
              "      \n",
              "  <style>\n",
              "    .colab-df-container {\n",
              "      display:flex;\n",
              "      flex-wrap:wrap;\n",
              "      gap: 12px;\n",
              "    }\n",
              "\n",
              "    .colab-df-convert {\n",
              "      background-color: #E8F0FE;\n",
              "      border: none;\n",
              "      border-radius: 50%;\n",
              "      cursor: pointer;\n",
              "      display: none;\n",
              "      fill: #1967D2;\n",
              "      height: 32px;\n",
              "      padding: 0 0 0 0;\n",
              "      width: 32px;\n",
              "    }\n",
              "\n",
              "    .colab-df-convert:hover {\n",
              "      background-color: #E2EBFA;\n",
              "      box-shadow: 0px 1px 2px rgba(60, 64, 67, 0.3), 0px 1px 3px 1px rgba(60, 64, 67, 0.15);\n",
              "      fill: #174EA6;\n",
              "    }\n",
              "\n",
              "    [theme=dark] .colab-df-convert {\n",
              "      background-color: #3B4455;\n",
              "      fill: #D2E3FC;\n",
              "    }\n",
              "\n",
              "    [theme=dark] .colab-df-convert:hover {\n",
              "      background-color: #434B5C;\n",
              "      box-shadow: 0px 1px 3px 1px rgba(0, 0, 0, 0.15);\n",
              "      filter: drop-shadow(0px 1px 2px rgba(0, 0, 0, 0.3));\n",
              "      fill: #FFFFFF;\n",
              "    }\n",
              "  </style>\n",
              "\n",
              "      <script>\n",
              "        const buttonEl =\n",
              "          document.querySelector('#df-57725fa5-a270-4a17-b35a-50c2b2ab5287 button.colab-df-convert');\n",
              "        buttonEl.style.display =\n",
              "          google.colab.kernel.accessAllowed ? 'block' : 'none';\n",
              "\n",
              "        async function convertToInteractive(key) {\n",
              "          const element = document.querySelector('#df-57725fa5-a270-4a17-b35a-50c2b2ab5287');\n",
              "          const dataTable =\n",
              "            await google.colab.kernel.invokeFunction('convertToInteractive',\n",
              "                                                     [key], {});\n",
              "          if (!dataTable) return;\n",
              "\n",
              "          const docLinkHtml = 'Like what you see? Visit the ' +\n",
              "            '<a target=\"_blank\" href=https://colab.research.google.com/notebooks/data_table.ipynb>data table notebook</a>'\n",
              "            + ' to learn more about interactive tables.';\n",
              "          element.innerHTML = '';\n",
              "          dataTable['output_type'] = 'display_data';\n",
              "          await google.colab.output.renderOutput(dataTable, element);\n",
              "          const docLink = document.createElement('div');\n",
              "          docLink.innerHTML = docLinkHtml;\n",
              "          element.appendChild(docLink);\n",
              "        }\n",
              "      </script>\n",
              "    </div>\n",
              "  </div>\n",
              "  "
            ],
            "text/plain": [
              "     X  Y  FFMC    DMC     DC   ISI  temp  RH  wind  rain  ...  month_nov  \\\n",
              "0    7  5  86.2   26.2   94.3   5.1   8.2  51   6.7   0.0  ...          0   \n",
              "1    7  4  90.6   35.4  669.1   6.7  18.0  33   0.9   0.0  ...          0   \n",
              "2    7  4  90.6   43.7  686.9   6.7  14.6  33   1.3   0.0  ...          0   \n",
              "3    8  6  91.7   33.3   77.5   9.0   8.3  97   4.0   0.2  ...          0   \n",
              "4    8  6  89.3   51.3  102.2   9.6  11.4  99   1.8   0.0  ...          0   \n",
              "..  .. ..   ...    ...    ...   ...   ...  ..   ...   ...  ...        ...   \n",
              "512  4  3  81.6   56.7  665.6   1.9  27.8  32   2.7   0.0  ...          0   \n",
              "513  2  4  81.6   56.7  665.6   1.9  21.9  71   5.8   0.0  ...          0   \n",
              "514  7  4  81.6   56.7  665.6   1.9  21.2  70   6.7   0.0  ...          0   \n",
              "515  1  4  94.4  146.0  614.7  11.3  25.6  42   4.0   0.0  ...          0   \n",
              "516  6  3  79.5    3.0  106.7   1.1  11.8  31   4.5   0.0  ...          1   \n",
              "\n",
              "     month_oct  month_sep  day_fri  day_mon  day_sat  day_sun  day_thu  \\\n",
              "0            0          0        1        0        0        0        0   \n",
              "1            1          0        0        0        0        0        0   \n",
              "2            1          0        0        0        1        0        0   \n",
              "3            0          0        1        0        0        0        0   \n",
              "4            0          0        0        0        0        1        0   \n",
              "..         ...        ...      ...      ...      ...      ...      ...   \n",
              "512          0          0        0        0        0        1        0   \n",
              "513          0          0        0        0        0        1        0   \n",
              "514          0          0        0        0        0        1        0   \n",
              "515          0          0        0        0        1        0        0   \n",
              "516          0          0        0        0        0        0        0   \n",
              "\n",
              "     day_tue  day_wed  \n",
              "0          0        0  \n",
              "1          1        0  \n",
              "2          0        0  \n",
              "3          0        0  \n",
              "4          0        0  \n",
              "..       ...      ...  \n",
              "512        0        0  \n",
              "513        0        0  \n",
              "514        0        0  \n",
              "515        0        0  \n",
              "516        1        0  \n",
              "\n",
              "[517 rows x 30 columns]"
            ]
          },
          "execution_count": 4,
          "metadata": {},
          "output_type": "execute_result"
        }
      ],
      "source": [
        "portugal_df = pd.get_dummies(portugal_df)\n",
        "\n",
        "portugal_df"
      ]
    },
    {
      "attachments": {},
      "cell_type": "markdown",
      "metadata": {
        "id": "70raHGZ7yiSl"
      },
      "source": [
        "There are 12 features:  x-axis spatial coordinate, y-axis spatial coordinate, month, day, fine fuel moisture code, duff moisture code, drought code, initial speed index, temperature in Celsius, relative humidity, wind, and rain. Our target label is \"fire area\", which determines the total burned area of the fire given the conditions. "
      ]
    },
    {
      "attachments": {},
      "cell_type": "markdown",
      "metadata": {
        "id": "HI26JVocFM8F"
      },
      "source": [
        "# Split data into test and training data\n",
        "\n",
        "Sometimes, the accuracy score on the training data is not always a reliable guide to evaluate the ability of the model to make predictions on unseen data. For this reason, we are going to hold back a testing data set until we’re ready to evaluate our model. We will split both our Algeria and Portugal datasets into training and testing data. Both datasets will be split by 80-20, with 20% making up the testing data. "
      ]
    },
    {
      "attachments": {},
      "cell_type": "markdown",
      "metadata": {
        "id": "ATWYqdhKYWyR"
      },
      "source": [
        "## Training data for Algeria:"
      ]
    },
    {
      "cell_type": "code",
      "execution_count": null,
      "metadata": {
        "colab": {
          "base_uri": "https://localhost:8080/",
          "height": 419
        },
        "id": "H9o9HULBGzWe",
        "outputId": "7487dca2-803e-4128-ea42-3551bf940e8e"
      },
      "outputs": [
        {
          "data": {
            "text/html": [
              "\n",
              "  <div id=\"df-3d13caa7-a957-4245-a149-0f7df89d73de\">\n",
              "    <div class=\"colab-df-container\">\n",
              "      <div>\n",
              "<style scoped>\n",
              "    .dataframe tbody tr th:only-of-type {\n",
              "        vertical-align: middle;\n",
              "    }\n",
              "\n",
              "    .dataframe tbody tr th {\n",
              "        vertical-align: top;\n",
              "    }\n",
              "\n",
              "    .dataframe thead th {\n",
              "        text-align: right;\n",
              "    }\n",
              "</style>\n",
              "<table border=\"1\" class=\"dataframe\">\n",
              "  <thead>\n",
              "    <tr style=\"text-align: right;\">\n",
              "      <th></th>\n",
              "      <th>day</th>\n",
              "      <th>month</th>\n",
              "      <th>year</th>\n",
              "      <th>Temperature</th>\n",
              "      <th>RH</th>\n",
              "      <th>Ws</th>\n",
              "      <th>Rain</th>\n",
              "      <th>FFMC</th>\n",
              "      <th>DMC</th>\n",
              "      <th>DC</th>\n",
              "      <th>ISI</th>\n",
              "      <th>BUI</th>\n",
              "      <th>FWI</th>\n",
              "      <th>Fire</th>\n",
              "    </tr>\n",
              "  </thead>\n",
              "  <tbody>\n",
              "    <tr>\n",
              "      <th>105</th>\n",
              "      <td>14.0</td>\n",
              "      <td>9.0</td>\n",
              "      <td>2012.0</td>\n",
              "      <td>22.0</td>\n",
              "      <td>76.0</td>\n",
              "      <td>26.0</td>\n",
              "      <td>8.3</td>\n",
              "      <td>47.4</td>\n",
              "      <td>1.1</td>\n",
              "      <td>7.0</td>\n",
              "      <td>0.4</td>\n",
              "      <td>1.6</td>\n",
              "      <td>0.1</td>\n",
              "      <td>0.0</td>\n",
              "    </tr>\n",
              "    <tr>\n",
              "      <th>96</th>\n",
              "      <td>5.0</td>\n",
              "      <td>9.0</td>\n",
              "      <td>2012.0</td>\n",
              "      <td>29.0</td>\n",
              "      <td>75.0</td>\n",
              "      <td>16.0</td>\n",
              "      <td>0.0</td>\n",
              "      <td>80.8</td>\n",
              "      <td>3.4</td>\n",
              "      <td>24.0</td>\n",
              "      <td>2.8</td>\n",
              "      <td>5.1</td>\n",
              "      <td>1.7</td>\n",
              "      <td>1.0</td>\n",
              "    </tr>\n",
              "    <tr>\n",
              "      <th>91</th>\n",
              "      <td>31.0</td>\n",
              "      <td>8.0</td>\n",
              "      <td>2012.0</td>\n",
              "      <td>28.0</td>\n",
              "      <td>80.0</td>\n",
              "      <td>21.0</td>\n",
              "      <td>16.8</td>\n",
              "      <td>52.5</td>\n",
              "      <td>8.7</td>\n",
              "      <td>8.7</td>\n",
              "      <td>0.6</td>\n",
              "      <td>8.3</td>\n",
              "      <td>0.3</td>\n",
              "      <td>0.0</td>\n",
              "    </tr>\n",
              "    <tr>\n",
              "      <th>78</th>\n",
              "      <td>18.0</td>\n",
              "      <td>8.0</td>\n",
              "      <td>2012.0</td>\n",
              "      <td>36.0</td>\n",
              "      <td>54.0</td>\n",
              "      <td>18.0</td>\n",
              "      <td>0.0</td>\n",
              "      <td>89.4</td>\n",
              "      <td>20.0</td>\n",
              "      <td>110.9</td>\n",
              "      <td>9.7</td>\n",
              "      <td>27.5</td>\n",
              "      <td>16.1</td>\n",
              "      <td>1.0</td>\n",
              "    </tr>\n",
              "    <tr>\n",
              "      <th>32</th>\n",
              "      <td>3.0</td>\n",
              "      <td>7.0</td>\n",
              "      <td>2012.0</td>\n",
              "      <td>32.0</td>\n",
              "      <td>76.0</td>\n",
              "      <td>20.0</td>\n",
              "      <td>0.7</td>\n",
              "      <td>63.1</td>\n",
              "      <td>2.6</td>\n",
              "      <td>9.2</td>\n",
              "      <td>1.3</td>\n",
              "      <td>3.0</td>\n",
              "      <td>0.5</td>\n",
              "      <td>0.0</td>\n",
              "    </tr>\n",
              "    <tr>\n",
              "      <th>...</th>\n",
              "      <td>...</td>\n",
              "      <td>...</td>\n",
              "      <td>...</td>\n",
              "      <td>...</td>\n",
              "      <td>...</td>\n",
              "      <td>...</td>\n",
              "      <td>...</td>\n",
              "      <td>...</td>\n",
              "      <td>...</td>\n",
              "      <td>...</td>\n",
              "      <td>...</td>\n",
              "      <td>...</td>\n",
              "      <td>...</td>\n",
              "      <td>...</td>\n",
              "    </tr>\n",
              "    <tr>\n",
              "      <th>61</th>\n",
              "      <td>1.0</td>\n",
              "      <td>8.0</td>\n",
              "      <td>2012.0</td>\n",
              "      <td>36.0</td>\n",
              "      <td>45.0</td>\n",
              "      <td>14.0</td>\n",
              "      <td>0.0</td>\n",
              "      <td>78.8</td>\n",
              "      <td>4.8</td>\n",
              "      <td>10.2</td>\n",
              "      <td>2.0</td>\n",
              "      <td>4.7</td>\n",
              "      <td>0.9</td>\n",
              "      <td>0.0</td>\n",
              "    </tr>\n",
              "    <tr>\n",
              "      <th>146</th>\n",
              "      <td>22.0</td>\n",
              "      <td>6.0</td>\n",
              "      <td>2012.0</td>\n",
              "      <td>33.0</td>\n",
              "      <td>46.0</td>\n",
              "      <td>14.0</td>\n",
              "      <td>1.1</td>\n",
              "      <td>78.3</td>\n",
              "      <td>8.1</td>\n",
              "      <td>8.3</td>\n",
              "      <td>1.9</td>\n",
              "      <td>7.7</td>\n",
              "      <td>1.2</td>\n",
              "      <td>0.0</td>\n",
              "    </tr>\n",
              "    <tr>\n",
              "      <th>222</th>\n",
              "      <td>6.0</td>\n",
              "      <td>9.0</td>\n",
              "      <td>2012.0</td>\n",
              "      <td>34.0</td>\n",
              "      <td>71.0</td>\n",
              "      <td>14.0</td>\n",
              "      <td>6.5</td>\n",
              "      <td>64.5</td>\n",
              "      <td>3.3</td>\n",
              "      <td>9.1</td>\n",
              "      <td>1.0</td>\n",
              "      <td>3.5</td>\n",
              "      <td>0.4</td>\n",
              "      <td>0.0</td>\n",
              "    </tr>\n",
              "    <tr>\n",
              "      <th>62</th>\n",
              "      <td>2.0</td>\n",
              "      <td>8.0</td>\n",
              "      <td>2012.0</td>\n",
              "      <td>35.0</td>\n",
              "      <td>55.0</td>\n",
              "      <td>12.0</td>\n",
              "      <td>0.4</td>\n",
              "      <td>78.0</td>\n",
              "      <td>5.8</td>\n",
              "      <td>10.0</td>\n",
              "      <td>1.7</td>\n",
              "      <td>5.5</td>\n",
              "      <td>0.8</td>\n",
              "      <td>0.0</td>\n",
              "    </tr>\n",
              "    <tr>\n",
              "      <th>135</th>\n",
              "      <td>11.0</td>\n",
              "      <td>6.0</td>\n",
              "      <td>2012.0</td>\n",
              "      <td>31.0</td>\n",
              "      <td>42.0</td>\n",
              "      <td>21.0</td>\n",
              "      <td>0.0</td>\n",
              "      <td>90.6</td>\n",
              "      <td>18.2</td>\n",
              "      <td>30.5</td>\n",
              "      <td>13.4</td>\n",
              "      <td>18.0</td>\n",
              "      <td>16.7</td>\n",
              "      <td>1.0</td>\n",
              "    </tr>\n",
              "  </tbody>\n",
              "</table>\n",
              "<p>194 rows × 14 columns</p>\n",
              "</div>\n",
              "      <button class=\"colab-df-convert\" onclick=\"convertToInteractive('df-3d13caa7-a957-4245-a149-0f7df89d73de')\"\n",
              "              title=\"Convert this dataframe to an interactive table.\"\n",
              "              style=\"display:none;\">\n",
              "        \n",
              "  <svg xmlns=\"http://www.w3.org/2000/svg\" height=\"24px\"viewBox=\"0 0 24 24\"\n",
              "       width=\"24px\">\n",
              "    <path d=\"M0 0h24v24H0V0z\" fill=\"none\"/>\n",
              "    <path d=\"M18.56 5.44l.94 2.06.94-2.06 2.06-.94-2.06-.94-.94-2.06-.94 2.06-2.06.94zm-11 1L8.5 8.5l.94-2.06 2.06-.94-2.06-.94L8.5 2.5l-.94 2.06-2.06.94zm10 10l.94 2.06.94-2.06 2.06-.94-2.06-.94-.94-2.06-.94 2.06-2.06.94z\"/><path d=\"M17.41 7.96l-1.37-1.37c-.4-.4-.92-.59-1.43-.59-.52 0-1.04.2-1.43.59L10.3 9.45l-7.72 7.72c-.78.78-.78 2.05 0 2.83L4 21.41c.39.39.9.59 1.41.59.51 0 1.02-.2 1.41-.59l7.78-7.78 2.81-2.81c.8-.78.8-2.07 0-2.86zM5.41 20L4 18.59l7.72-7.72 1.47 1.35L5.41 20z\"/>\n",
              "  </svg>\n",
              "      </button>\n",
              "      \n",
              "  <style>\n",
              "    .colab-df-container {\n",
              "      display:flex;\n",
              "      flex-wrap:wrap;\n",
              "      gap: 12px;\n",
              "    }\n",
              "\n",
              "    .colab-df-convert {\n",
              "      background-color: #E8F0FE;\n",
              "      border: none;\n",
              "      border-radius: 50%;\n",
              "      cursor: pointer;\n",
              "      display: none;\n",
              "      fill: #1967D2;\n",
              "      height: 32px;\n",
              "      padding: 0 0 0 0;\n",
              "      width: 32px;\n",
              "    }\n",
              "\n",
              "    .colab-df-convert:hover {\n",
              "      background-color: #E2EBFA;\n",
              "      box-shadow: 0px 1px 2px rgba(60, 64, 67, 0.3), 0px 1px 3px 1px rgba(60, 64, 67, 0.15);\n",
              "      fill: #174EA6;\n",
              "    }\n",
              "\n",
              "    [theme=dark] .colab-df-convert {\n",
              "      background-color: #3B4455;\n",
              "      fill: #D2E3FC;\n",
              "    }\n",
              "\n",
              "    [theme=dark] .colab-df-convert:hover {\n",
              "      background-color: #434B5C;\n",
              "      box-shadow: 0px 1px 3px 1px rgba(0, 0, 0, 0.15);\n",
              "      filter: drop-shadow(0px 1px 2px rgba(0, 0, 0, 0.3));\n",
              "      fill: #FFFFFF;\n",
              "    }\n",
              "  </style>\n",
              "\n",
              "      <script>\n",
              "        const buttonEl =\n",
              "          document.querySelector('#df-3d13caa7-a957-4245-a149-0f7df89d73de button.colab-df-convert');\n",
              "        buttonEl.style.display =\n",
              "          google.colab.kernel.accessAllowed ? 'block' : 'none';\n",
              "\n",
              "        async function convertToInteractive(key) {\n",
              "          const element = document.querySelector('#df-3d13caa7-a957-4245-a149-0f7df89d73de');\n",
              "          const dataTable =\n",
              "            await google.colab.kernel.invokeFunction('convertToInteractive',\n",
              "                                                     [key], {});\n",
              "          if (!dataTable) return;\n",
              "\n",
              "          const docLinkHtml = 'Like what you see? Visit the ' +\n",
              "            '<a target=\"_blank\" href=https://colab.research.google.com/notebooks/data_table.ipynb>data table notebook</a>'\n",
              "            + ' to learn more about interactive tables.';\n",
              "          element.innerHTML = '';\n",
              "          dataTable['output_type'] = 'display_data';\n",
              "          await google.colab.output.renderOutput(dataTable, element);\n",
              "          const docLink = document.createElement('div');\n",
              "          docLink.innerHTML = docLinkHtml;\n",
              "          element.appendChild(docLink);\n",
              "        }\n",
              "      </script>\n",
              "    </div>\n",
              "  </div>\n",
              "  "
            ],
            "text/plain": [
              "      day  month    year  Temperature    RH    Ws  Rain   FFMC   DMC     DC  \\\n",
              "105  14.0    9.0  2012.0         22.0  76.0  26.0    8.3  47.4   1.1    7.0   \n",
              "96    5.0    9.0  2012.0         29.0  75.0  16.0    0.0  80.8   3.4   24.0   \n",
              "91   31.0    8.0  2012.0         28.0  80.0  21.0   16.8  52.5   8.7    8.7   \n",
              "78   18.0    8.0  2012.0         36.0  54.0  18.0    0.0  89.4  20.0  110.9   \n",
              "32    3.0    7.0  2012.0         32.0  76.0  20.0    0.7  63.1   2.6    9.2   \n",
              "..    ...    ...     ...          ...   ...   ...    ...   ...   ...    ...   \n",
              "61    1.0    8.0  2012.0         36.0  45.0  14.0    0.0  78.8   4.8   10.2   \n",
              "146  22.0    6.0  2012.0         33.0  46.0  14.0    1.1  78.3   8.1    8.3   \n",
              "222   6.0    9.0  2012.0         34.0  71.0  14.0    6.5  64.5   3.3    9.1   \n",
              "62    2.0    8.0  2012.0         35.0  55.0  12.0    0.4  78.0   5.8   10.0   \n",
              "135  11.0    6.0  2012.0         31.0  42.0  21.0    0.0  90.6  18.2   30.5   \n",
              "\n",
              "      ISI   BUI   FWI  Fire  \n",
              "105   0.4   1.6   0.1   0.0  \n",
              "96    2.8   5.1   1.7   1.0  \n",
              "91    0.6   8.3   0.3   0.0  \n",
              "78    9.7  27.5  16.1   1.0  \n",
              "32    1.3   3.0   0.5   0.0  \n",
              "..    ...   ...   ...   ...  \n",
              "61    2.0   4.7   0.9   0.0  \n",
              "146   1.9   7.7   1.2   0.0  \n",
              "222   1.0   3.5   0.4   0.0  \n",
              "62    1.7   5.5   0.8   0.0  \n",
              "135  13.4  18.0  16.7   1.0  \n",
              "\n",
              "[194 rows x 14 columns]"
            ]
          },
          "execution_count": 5,
          "metadata": {},
          "output_type": "execute_result"
        }
      ],
      "source": [
        "alg_train, alg_test = train_test_split(algeria_df, test_size=0.2, random_state=25)\n",
        "\n",
        "alg_train"
      ]
    },
    {
      "cell_type": "code",
      "execution_count": null,
      "metadata": {
        "id": "d2W-fGAFHpoJ"
      },
      "outputs": [],
      "source": [
        "y_train_algeria = alg_train[\"Fire\"]\n",
        "y_test_algeria = alg_test[\"Fire\"]\n",
        "\n",
        "X_train_algeria = alg_train.drop([\"Fire\"], axis=1)\n",
        "X_test_algeria = alg_test.drop([\"Fire\"], axis=1)"
      ]
    },
    {
      "attachments": {},
      "cell_type": "markdown",
      "metadata": {
        "id": "HXN9VJ4jaLeG"
      },
      "source": [
        "## Training data for Portugal:"
      ]
    },
    {
      "cell_type": "code",
      "execution_count": null,
      "metadata": {
        "colab": {
          "base_uri": "https://localhost:8080/",
          "height": 483
        },
        "id": "zICocve9J_-H",
        "outputId": "5b096175-1df9-4a82-b084-092844ab8423"
      },
      "outputs": [
        {
          "data": {
            "text/html": [
              "\n",
              "  <div id=\"df-b24aed18-ba3a-46c2-9ddd-9c42a1c92aca\">\n",
              "    <div class=\"colab-df-container\">\n",
              "      <div>\n",
              "<style scoped>\n",
              "    .dataframe tbody tr th:only-of-type {\n",
              "        vertical-align: middle;\n",
              "    }\n",
              "\n",
              "    .dataframe tbody tr th {\n",
              "        vertical-align: top;\n",
              "    }\n",
              "\n",
              "    .dataframe thead th {\n",
              "        text-align: right;\n",
              "    }\n",
              "</style>\n",
              "<table border=\"1\" class=\"dataframe\">\n",
              "  <thead>\n",
              "    <tr style=\"text-align: right;\">\n",
              "      <th></th>\n",
              "      <th>X</th>\n",
              "      <th>Y</th>\n",
              "      <th>FFMC</th>\n",
              "      <th>DMC</th>\n",
              "      <th>DC</th>\n",
              "      <th>ISI</th>\n",
              "      <th>temp</th>\n",
              "      <th>RH</th>\n",
              "      <th>wind</th>\n",
              "      <th>rain</th>\n",
              "      <th>...</th>\n",
              "      <th>month_nov</th>\n",
              "      <th>month_oct</th>\n",
              "      <th>month_sep</th>\n",
              "      <th>day_fri</th>\n",
              "      <th>day_mon</th>\n",
              "      <th>day_sat</th>\n",
              "      <th>day_sun</th>\n",
              "      <th>day_thu</th>\n",
              "      <th>day_tue</th>\n",
              "      <th>day_wed</th>\n",
              "    </tr>\n",
              "  </thead>\n",
              "  <tbody>\n",
              "    <tr>\n",
              "      <th>250</th>\n",
              "      <td>8</td>\n",
              "      <td>5</td>\n",
              "      <td>93.1</td>\n",
              "      <td>157.3</td>\n",
              "      <td>666.7</td>\n",
              "      <td>13.5</td>\n",
              "      <td>26.8</td>\n",
              "      <td>25</td>\n",
              "      <td>3.1</td>\n",
              "      <td>0.0</td>\n",
              "      <td>...</td>\n",
              "      <td>0</td>\n",
              "      <td>0</td>\n",
              "      <td>0</td>\n",
              "      <td>0</td>\n",
              "      <td>0</td>\n",
              "      <td>0</td>\n",
              "      <td>0</td>\n",
              "      <td>0</td>\n",
              "      <td>0</td>\n",
              "      <td>1</td>\n",
              "    </tr>\n",
              "    <tr>\n",
              "      <th>48</th>\n",
              "      <td>4</td>\n",
              "      <td>4</td>\n",
              "      <td>87.2</td>\n",
              "      <td>23.9</td>\n",
              "      <td>64.7</td>\n",
              "      <td>4.1</td>\n",
              "      <td>11.8</td>\n",
              "      <td>35</td>\n",
              "      <td>1.8</td>\n",
              "      <td>0.0</td>\n",
              "      <td>...</td>\n",
              "      <td>0</td>\n",
              "      <td>0</td>\n",
              "      <td>0</td>\n",
              "      <td>0</td>\n",
              "      <td>1</td>\n",
              "      <td>0</td>\n",
              "      <td>0</td>\n",
              "      <td>0</td>\n",
              "      <td>0</td>\n",
              "      <td>0</td>\n",
              "    </tr>\n",
              "    <tr>\n",
              "      <th>417</th>\n",
              "      <td>6</td>\n",
              "      <td>5</td>\n",
              "      <td>93.4</td>\n",
              "      <td>17.3</td>\n",
              "      <td>28.3</td>\n",
              "      <td>9.9</td>\n",
              "      <td>13.8</td>\n",
              "      <td>24</td>\n",
              "      <td>5.8</td>\n",
              "      <td>0.0</td>\n",
              "      <td>...</td>\n",
              "      <td>0</td>\n",
              "      <td>0</td>\n",
              "      <td>0</td>\n",
              "      <td>0</td>\n",
              "      <td>0</td>\n",
              "      <td>0</td>\n",
              "      <td>0</td>\n",
              "      <td>0</td>\n",
              "      <td>0</td>\n",
              "      <td>1</td>\n",
              "    </tr>\n",
              "    <tr>\n",
              "      <th>140</th>\n",
              "      <td>2</td>\n",
              "      <td>5</td>\n",
              "      <td>90.9</td>\n",
              "      <td>126.5</td>\n",
              "      <td>686.5</td>\n",
              "      <td>7.0</td>\n",
              "      <td>21.9</td>\n",
              "      <td>39</td>\n",
              "      <td>1.8</td>\n",
              "      <td>0.0</td>\n",
              "      <td>...</td>\n",
              "      <td>0</td>\n",
              "      <td>0</td>\n",
              "      <td>1</td>\n",
              "      <td>0</td>\n",
              "      <td>1</td>\n",
              "      <td>0</td>\n",
              "      <td>0</td>\n",
              "      <td>0</td>\n",
              "      <td>0</td>\n",
              "      <td>0</td>\n",
              "    </tr>\n",
              "    <tr>\n",
              "      <th>96</th>\n",
              "      <td>3</td>\n",
              "      <td>4</td>\n",
              "      <td>83.9</td>\n",
              "      <td>8.0</td>\n",
              "      <td>30.2</td>\n",
              "      <td>2.6</td>\n",
              "      <td>12.7</td>\n",
              "      <td>48</td>\n",
              "      <td>1.8</td>\n",
              "      <td>0.0</td>\n",
              "      <td>...</td>\n",
              "      <td>0</td>\n",
              "      <td>0</td>\n",
              "      <td>0</td>\n",
              "      <td>0</td>\n",
              "      <td>0</td>\n",
              "      <td>1</td>\n",
              "      <td>0</td>\n",
              "      <td>0</td>\n",
              "      <td>0</td>\n",
              "      <td>0</td>\n",
              "    </tr>\n",
              "    <tr>\n",
              "      <th>...</th>\n",
              "      <td>...</td>\n",
              "      <td>...</td>\n",
              "      <td>...</td>\n",
              "      <td>...</td>\n",
              "      <td>...</td>\n",
              "      <td>...</td>\n",
              "      <td>...</td>\n",
              "      <td>...</td>\n",
              "      <td>...</td>\n",
              "      <td>...</td>\n",
              "      <td>...</td>\n",
              "      <td>...</td>\n",
              "      <td>...</td>\n",
              "      <td>...</td>\n",
              "      <td>...</td>\n",
              "      <td>...</td>\n",
              "      <td>...</td>\n",
              "      <td>...</td>\n",
              "      <td>...</td>\n",
              "      <td>...</td>\n",
              "      <td>...</td>\n",
              "    </tr>\n",
              "    <tr>\n",
              "      <th>317</th>\n",
              "      <td>4</td>\n",
              "      <td>4</td>\n",
              "      <td>92.4</td>\n",
              "      <td>96.2</td>\n",
              "      <td>739.4</td>\n",
              "      <td>8.6</td>\n",
              "      <td>19.2</td>\n",
              "      <td>24</td>\n",
              "      <td>4.9</td>\n",
              "      <td>0.0</td>\n",
              "      <td>...</td>\n",
              "      <td>0</td>\n",
              "      <td>0</td>\n",
              "      <td>1</td>\n",
              "      <td>0</td>\n",
              "      <td>0</td>\n",
              "      <td>0</td>\n",
              "      <td>0</td>\n",
              "      <td>1</td>\n",
              "      <td>0</td>\n",
              "      <td>0</td>\n",
              "    </tr>\n",
              "    <tr>\n",
              "      <th>143</th>\n",
              "      <td>1</td>\n",
              "      <td>2</td>\n",
              "      <td>90.0</td>\n",
              "      <td>51.3</td>\n",
              "      <td>296.3</td>\n",
              "      <td>8.7</td>\n",
              "      <td>16.6</td>\n",
              "      <td>53</td>\n",
              "      <td>5.4</td>\n",
              "      <td>0.0</td>\n",
              "      <td>...</td>\n",
              "      <td>0</td>\n",
              "      <td>0</td>\n",
              "      <td>0</td>\n",
              "      <td>0</td>\n",
              "      <td>0</td>\n",
              "      <td>1</td>\n",
              "      <td>0</td>\n",
              "      <td>0</td>\n",
              "      <td>0</td>\n",
              "      <td>0</td>\n",
              "    </tr>\n",
              "    <tr>\n",
              "      <th>474</th>\n",
              "      <td>4</td>\n",
              "      <td>3</td>\n",
              "      <td>93.0</td>\n",
              "      <td>103.8</td>\n",
              "      <td>316.7</td>\n",
              "      <td>10.8</td>\n",
              "      <td>26.4</td>\n",
              "      <td>35</td>\n",
              "      <td>2.7</td>\n",
              "      <td>0.0</td>\n",
              "      <td>...</td>\n",
              "      <td>0</td>\n",
              "      <td>0</td>\n",
              "      <td>0</td>\n",
              "      <td>0</td>\n",
              "      <td>0</td>\n",
              "      <td>0</td>\n",
              "      <td>0</td>\n",
              "      <td>1</td>\n",
              "      <td>0</td>\n",
              "      <td>0</td>\n",
              "    </tr>\n",
              "    <tr>\n",
              "      <th>318</th>\n",
              "      <td>6</td>\n",
              "      <td>5</td>\n",
              "      <td>92.8</td>\n",
              "      <td>119.0</td>\n",
              "      <td>783.5</td>\n",
              "      <td>7.5</td>\n",
              "      <td>21.6</td>\n",
              "      <td>27</td>\n",
              "      <td>2.2</td>\n",
              "      <td>0.0</td>\n",
              "      <td>...</td>\n",
              "      <td>0</td>\n",
              "      <td>0</td>\n",
              "      <td>1</td>\n",
              "      <td>0</td>\n",
              "      <td>0</td>\n",
              "      <td>0</td>\n",
              "      <td>0</td>\n",
              "      <td>1</td>\n",
              "      <td>0</td>\n",
              "      <td>0</td>\n",
              "    </tr>\n",
              "    <tr>\n",
              "      <th>132</th>\n",
              "      <td>4</td>\n",
              "      <td>6</td>\n",
              "      <td>89.3</td>\n",
              "      <td>51.3</td>\n",
              "      <td>102.2</td>\n",
              "      <td>9.6</td>\n",
              "      <td>10.6</td>\n",
              "      <td>46</td>\n",
              "      <td>4.9</td>\n",
              "      <td>0.0</td>\n",
              "      <td>...</td>\n",
              "      <td>0</td>\n",
              "      <td>0</td>\n",
              "      <td>0</td>\n",
              "      <td>0</td>\n",
              "      <td>0</td>\n",
              "      <td>0</td>\n",
              "      <td>1</td>\n",
              "      <td>0</td>\n",
              "      <td>0</td>\n",
              "      <td>0</td>\n",
              "    </tr>\n",
              "  </tbody>\n",
              "</table>\n",
              "<p>413 rows × 30 columns</p>\n",
              "</div>\n",
              "      <button class=\"colab-df-convert\" onclick=\"convertToInteractive('df-b24aed18-ba3a-46c2-9ddd-9c42a1c92aca')\"\n",
              "              title=\"Convert this dataframe to an interactive table.\"\n",
              "              style=\"display:none;\">\n",
              "        \n",
              "  <svg xmlns=\"http://www.w3.org/2000/svg\" height=\"24px\"viewBox=\"0 0 24 24\"\n",
              "       width=\"24px\">\n",
              "    <path d=\"M0 0h24v24H0V0z\" fill=\"none\"/>\n",
              "    <path d=\"M18.56 5.44l.94 2.06.94-2.06 2.06-.94-2.06-.94-.94-2.06-.94 2.06-2.06.94zm-11 1L8.5 8.5l.94-2.06 2.06-.94-2.06-.94L8.5 2.5l-.94 2.06-2.06.94zm10 10l.94 2.06.94-2.06 2.06-.94-2.06-.94-.94-2.06-.94 2.06-2.06.94z\"/><path d=\"M17.41 7.96l-1.37-1.37c-.4-.4-.92-.59-1.43-.59-.52 0-1.04.2-1.43.59L10.3 9.45l-7.72 7.72c-.78.78-.78 2.05 0 2.83L4 21.41c.39.39.9.59 1.41.59.51 0 1.02-.2 1.41-.59l7.78-7.78 2.81-2.81c.8-.78.8-2.07 0-2.86zM5.41 20L4 18.59l7.72-7.72 1.47 1.35L5.41 20z\"/>\n",
              "  </svg>\n",
              "      </button>\n",
              "      \n",
              "  <style>\n",
              "    .colab-df-container {\n",
              "      display:flex;\n",
              "      flex-wrap:wrap;\n",
              "      gap: 12px;\n",
              "    }\n",
              "\n",
              "    .colab-df-convert {\n",
              "      background-color: #E8F0FE;\n",
              "      border: none;\n",
              "      border-radius: 50%;\n",
              "      cursor: pointer;\n",
              "      display: none;\n",
              "      fill: #1967D2;\n",
              "      height: 32px;\n",
              "      padding: 0 0 0 0;\n",
              "      width: 32px;\n",
              "    }\n",
              "\n",
              "    .colab-df-convert:hover {\n",
              "      background-color: #E2EBFA;\n",
              "      box-shadow: 0px 1px 2px rgba(60, 64, 67, 0.3), 0px 1px 3px 1px rgba(60, 64, 67, 0.15);\n",
              "      fill: #174EA6;\n",
              "    }\n",
              "\n",
              "    [theme=dark] .colab-df-convert {\n",
              "      background-color: #3B4455;\n",
              "      fill: #D2E3FC;\n",
              "    }\n",
              "\n",
              "    [theme=dark] .colab-df-convert:hover {\n",
              "      background-color: #434B5C;\n",
              "      box-shadow: 0px 1px 3px 1px rgba(0, 0, 0, 0.15);\n",
              "      filter: drop-shadow(0px 1px 2px rgba(0, 0, 0, 0.3));\n",
              "      fill: #FFFFFF;\n",
              "    }\n",
              "  </style>\n",
              "\n",
              "      <script>\n",
              "        const buttonEl =\n",
              "          document.querySelector('#df-b24aed18-ba3a-46c2-9ddd-9c42a1c92aca button.colab-df-convert');\n",
              "        buttonEl.style.display =\n",
              "          google.colab.kernel.accessAllowed ? 'block' : 'none';\n",
              "\n",
              "        async function convertToInteractive(key) {\n",
              "          const element = document.querySelector('#df-b24aed18-ba3a-46c2-9ddd-9c42a1c92aca');\n",
              "          const dataTable =\n",
              "            await google.colab.kernel.invokeFunction('convertToInteractive',\n",
              "                                                     [key], {});\n",
              "          if (!dataTable) return;\n",
              "\n",
              "          const docLinkHtml = 'Like what you see? Visit the ' +\n",
              "            '<a target=\"_blank\" href=https://colab.research.google.com/notebooks/data_table.ipynb>data table notebook</a>'\n",
              "            + ' to learn more about interactive tables.';\n",
              "          element.innerHTML = '';\n",
              "          dataTable['output_type'] = 'display_data';\n",
              "          await google.colab.output.renderOutput(dataTable, element);\n",
              "          const docLink = document.createElement('div');\n",
              "          docLink.innerHTML = docLinkHtml;\n",
              "          element.appendChild(docLink);\n",
              "        }\n",
              "      </script>\n",
              "    </div>\n",
              "  </div>\n",
              "  "
            ],
            "text/plain": [
              "     X  Y  FFMC    DMC     DC   ISI  temp  RH  wind  rain  ...  month_nov  \\\n",
              "250  8  5  93.1  157.3  666.7  13.5  26.8  25   3.1   0.0  ...          0   \n",
              "48   4  4  87.2   23.9   64.7   4.1  11.8  35   1.8   0.0  ...          0   \n",
              "417  6  5  93.4   17.3   28.3   9.9  13.8  24   5.8   0.0  ...          0   \n",
              "140  2  5  90.9  126.5  686.5   7.0  21.9  39   1.8   0.0  ...          0   \n",
              "96   3  4  83.9    8.0   30.2   2.6  12.7  48   1.8   0.0  ...          0   \n",
              "..  .. ..   ...    ...    ...   ...   ...  ..   ...   ...  ...        ...   \n",
              "317  4  4  92.4   96.2  739.4   8.6  19.2  24   4.9   0.0  ...          0   \n",
              "143  1  2  90.0   51.3  296.3   8.7  16.6  53   5.4   0.0  ...          0   \n",
              "474  4  3  93.0  103.8  316.7  10.8  26.4  35   2.7   0.0  ...          0   \n",
              "318  6  5  92.8  119.0  783.5   7.5  21.6  27   2.2   0.0  ...          0   \n",
              "132  4  6  89.3   51.3  102.2   9.6  10.6  46   4.9   0.0  ...          0   \n",
              "\n",
              "     month_oct  month_sep  day_fri  day_mon  day_sat  day_sun  day_thu  \\\n",
              "250          0          0        0        0        0        0        0   \n",
              "48           0          0        0        1        0        0        0   \n",
              "417          0          0        0        0        0        0        0   \n",
              "140          0          1        0        1        0        0        0   \n",
              "96           0          0        0        0        1        0        0   \n",
              "..         ...        ...      ...      ...      ...      ...      ...   \n",
              "317          0          1        0        0        0        0        1   \n",
              "143          0          0        0        0        1        0        0   \n",
              "474          0          0        0        0        0        0        1   \n",
              "318          0          1        0        0        0        0        1   \n",
              "132          0          0        0        0        0        1        0   \n",
              "\n",
              "     day_tue  day_wed  \n",
              "250        0        1  \n",
              "48         0        0  \n",
              "417        0        1  \n",
              "140        0        0  \n",
              "96         0        0  \n",
              "..       ...      ...  \n",
              "317        0        0  \n",
              "143        0        0  \n",
              "474        0        0  \n",
              "318        0        0  \n",
              "132        0        0  \n",
              "\n",
              "[413 rows x 30 columns]"
            ]
          },
          "execution_count": 7,
          "metadata": {},
          "output_type": "execute_result"
        }
      ],
      "source": [
        "portugal_train, portugal_test = train_test_split(portugal_df, test_size=0.2, random_state=25)\n",
        "portugal_df[portugal_df[\"area\"]==0.00]\n",
        "\n",
        "portugal_train"
      ]
    },
    {
      "cell_type": "code",
      "execution_count": null,
      "metadata": {
        "id": "FjnwIyOqHPaz"
      },
      "outputs": [],
      "source": [
        "y_train_portugal = portugal_train[\"area\"]\n",
        "y_test_portugal = portugal_test[\"area\"]\n",
        "\n",
        "X_train_portugal = portugal_train.drop([\"area\"], axis=1)\n",
        "X_test_portugal = portugal_test.drop([\"area\"], axis=1)"
      ]
    },
    {
      "attachments": {},
      "cell_type": "markdown",
      "metadata": {
        "id": "_VCsOW2qLMct"
      },
      "source": [
        "# Choosing important features\n",
        "\n",
        "We will use RidgeCV from scikit learn to pull out some important features in each dataset that we can later use to train on. RidgeCV is a cross validation method in ridge regression. The features with the highest absolute coefficient are conisdered the most important features. "
      ]
    },
    {
      "attachments": {},
      "cell_type": "markdown",
      "metadata": {
        "id": "WRWxq41hdEcL"
      },
      "source": [
        "## Portugal's important features:\n",
        "\n",
        "After applying RidgeCV to the Portugal dataset, we yield the 5 most important features: X, Y, ISI, temp, and wind. We will then plot these features against the target label, \"Fire Area\", to see their relationship to one another. In each scatterplot, the x-axis represents the important feature and the y-axis shows the amount of burned area given that feature."
      ]
    },
    {
      "cell_type": "code",
      "execution_count": null,
      "metadata": {
        "colab": {
          "base_uri": "https://localhost:8080/",
          "height": 469
        },
        "id": "QcjgN1vbKfHx",
        "outputId": "5f907afd-0cef-433f-f748-441afa68f8da"
      },
      "outputs": [
        {
          "data": {
            "image/png": "[encoded data removed]",
            "text/plain": [
              "<Figure size 640x480 with 1 Axes>"
            ]
          },
          "metadata": {},
          "output_type": "display_data"
        },
        {
          "name": "stdout",
          "output_type": "stream",
          "text": [
            "Features selected: ['X' 'Y' 'ISI' 'temp' 'wind']\n"
          ]
        }
      ],
      "source": [
        "ridge = RidgeCV(alphas=np.logspace(-6, 6, num=5)).fit(X_train_portugal, y_train_portugal) \n",
        "\n",
        "#assign importance to each feature through a specific attribute\n",
        "importance = np.abs(ridge.coef_)           \n",
        "\n",
        "#create a plot to visualize the importance of the features\n",
        "feature_names = np.array(X_train_portugal.columns)\n",
        "plt.barh(feature_names, importance)\n",
        "plt.title(\"Feature importances via coefficients Portugal\")\n",
        "plt.show()\n",
        "\n",
        "#select a certain number of features\n",
        "threshold = np.sort(importance)[-10]\n",
        "sfm = SelectFromModel(ridge, threshold=threshold).fit(X_train_portugal, y_train_portugal)\n",
        "\n",
        "#only select the first five features from the list\n",
        "selected_features_portugal = feature_names[sfm.get_support()][0:5]\n",
        "\n",
        "print(f\"Features selected: {selected_features_portugal}\")"
      ]
    },
    {
      "cell_type": "code",
      "execution_count": null,
      "metadata": {
        "colab": {
          "base_uri": "https://localhost:8080/",
          "height": 487
        },
        "id": "0m5l7ajbwt0X",
        "outputId": "53cdd3f9-e3dd-474d-bc7e-8cc6fba4ddcb"
      },
      "outputs": [
        {
          "data": {
            "image/png": "[encoded data removed]",
            "text/plain": [
              "<Figure size 1000x500 with 5 Axes>"
            ]
          },
          "metadata": {},
          "output_type": "display_data"
        }
      ],
      "source": [
        "fig, axarr = plt.subplots(2, 3, figsize = (10, 5))\n",
        "fig.subplots_adjust(wspace = 0.5, hspace = 0.4)\n",
        "fig.delaxes(ax = axarr[1,2])\n",
        "\n",
        "for i in range(5):\n",
        "  ax = axarr.flatten()\n",
        "  ax[i].scatter(X_train_portugal[selected_features_portugal[i]], y_train_portugal)\n",
        "  ax[i].set(ylabel = \"Fire Area\", xlabel = selected_features_portugal[i], title = (f\"Fire area in Portugal in relation to {selected_features_portugal[i]}\"))"
      ]
    },
    {
      "attachments": {},
      "cell_type": "markdown",
      "metadata": {
        "id": "NkeYVP1Vd3CX"
      },
      "source": [
        "## Algeria's important features:\n",
        "\n",
        "We apply the same technique to the Algeria dataset, and the 5 most important features are: RH, Rain, FFMC, ISI, and FWI. We will also plot these features against the target label, \"Fire\", to see their relationship to one another. Since this target label is binary, \"no fire\" or \"fire, we opted for box plots to have better visualization. "
      ]
    },
    {
      "cell_type": "code",
      "execution_count": null,
      "metadata": {
        "colab": {
          "base_uri": "https://localhost:8080/",
          "height": 469
        },
        "id": "_DlnI_BGsFYu",
        "outputId": "ae7ab9fa-2dea-468e-c418-9b84d1bd597c"
      },
      "outputs": [
        {
          "data": {
            "image/png": "[encoded data removed]",
            "text/plain": [
              "<Figure size 640x480 with 1 Axes>"
            ]
          },
          "metadata": {},
          "output_type": "display_data"
        },
        {
          "name": "stdout",
          "output_type": "stream",
          "text": [
            "Features selected by SelectFromModel: [' RH' 'Rain ' 'FFMC' 'ISI' 'FWI']\n"
          ]
        }
      ],
      "source": [
        "ridge = RidgeCV(alphas=np.logspace(-6, 6, num=5)).fit(X_train_algeria, y_train_algeria) \n",
        "\n",
        "#assign importance to each feature through a specific attribute\n",
        "importance = np.abs(ridge.coef_)\n",
        "\n",
        "#create a plot to visualize the importance of the features\n",
        "feature_names = np.array(X_train_algeria.columns)\n",
        "plt.barh(feature_names, importance)\n",
        "plt.title(\"Feature importances via coefficients in Algeria\")\n",
        "plt.show()\n",
        "\n",
        "#select a certain number of features\n",
        "threshold = np.sort(importance)[-5]\n",
        "\n",
        "sfm = SelectFromModel(ridge, threshold=threshold).fit(X_train_algeria, y_train_algeria)\n",
        "#only select the first three features from the list\n",
        "selected_features_algeria = feature_names[sfm.get_support()][0:5]\n",
        "\n",
        "print(f\"Features selected by SelectFromModel: {selected_features_algeria}\")"
      ]
    },
    {
      "cell_type": "code",
      "execution_count": null,
      "metadata": {
        "colab": {
          "base_uri": "https://localhost:8080/",
          "height": 637
        },
        "id": "GgX4LaQ_2cpa",
        "outputId": "ffb6bef6-98c0-4d66-f487-c8861206ff6c"
      },
      "outputs": [
        {
          "data": {
            "text/plain": [
              "[Text(0.5, 1.0, 'FWI')]"
            ]
          },
          "execution_count": 12,
          "metadata": {},
          "output_type": "execute_result"
        },
        {
          "data": {
            "image/png": "[encoded data removed]",
            "text/plain": [
              "<Figure size 1800x1000 with 5 Axes>"
            ]
          },
          "metadata": {},
          "output_type": "display_data"
        }
      ],
      "source": [
        "import seaborn as sns\n",
        "\n",
        "fig, axes = plt.subplots(2,3, figsize=(18, 10))\n",
        "fig.subplots_adjust(wspace = 0.5, hspace = 0.3)\n",
        "\n",
        "sns.boxplot(ax=axes[0,0], x = y_train_algeria == 1,y=X_train_algeria[selected_features_algeria[0]])\n",
        "sns.boxplot(ax=axes[0,1], x = y_train_algeria == 1,y=X_train_algeria[selected_features_algeria[1]])\n",
        "sns.boxplot(ax=axes[1,0], x = y_train_algeria == 1,y=X_train_algeria[selected_features_algeria[2]])\n",
        "sns.boxplot(ax=axes[1,1], x = y_train_algeria == 1,y=X_train_algeria[selected_features_algeria[3]])\n",
        "sns.boxplot(ax=axes[1,2], x = y_train_algeria == 1,y=X_train_algeria[selected_features_algeria[4]])\n",
        "\n",
        "fig.delaxes(ax=axes[0,2])\n",
        "\n",
        "axes[0,0].set(title = selected_features_algeria[0])\n",
        "axes[0,1].set(title = selected_features_algeria[1])\n",
        "axes[1,0].set(title = selected_features_algeria[2])\n",
        "axes[1,1].set(title = selected_features_algeria[3])\n",
        "axes[1,2].set(title = selected_features_algeria[4])\n"
      ]
    },
    {
      "attachments": {},
      "cell_type": "markdown",
      "metadata": {
        "id": "oOS6D9MNfx2u"
      },
      "source": [
        "# Modeling\n",
        "\n",
        "We are now ready to model on the Algeria and Portugal training data. For each training dataset, we will train on the completed set of features and the 5 selected features we have gotten from RidgeCV. Rather than developing our own algorithms, we are planning on using existing models such as Random Forest and Logistic Regression and spending our time focusing on model and feature selection. We will choose the model and set of features that yield the highest acurracy score. All of the machine learning algorithms that we will use are imported from scikit learn. "
      ]
    },
    {
      "attachments": {},
      "cell_type": "markdown",
      "metadata": {
        "id": "el13cqa8hTS3"
      },
      "source": [
        "\n",
        "## Training on Algeria dataset:\n",
        "\n",
        "We will train the algeria data on 4 different classifiers: \n",
        "1. Decision Tree \n",
        "2. Logistic Regression\n",
        "3. Random Forest \n",
        "4. Stochastic Gradient Descent \n",
        "\n",
        "Again, we will train the Algeria with its completed set of features and with its 5 slected features. The 5 selected features are: RH, Rain, FFMC, ISI, and FWI. In addition, we will use cross validation to evaluate each model's performance at different settings and avoid overfitting. "
      ]
    },
    {
      "attachments": {},
      "cell_type": "markdown",
      "metadata": {
        "id": "WFqFfZSejcLU"
      },
      "source": [
        "### Decision tree classifier on Algeria data"
      ]
    },
    {
      "cell_type": "code",
      "execution_count": null,
      "metadata": {
        "colab": {
          "base_uri": "https://localhost:8080/"
        },
        "id": "gXXjAWJ9iWIj",
        "outputId": "c7d797c8-bc83-4bd8-f42e-2b210e4c43f3"
      },
      "outputs": [
        {
          "name": "stdout",
          "output_type": "stream",
          "text": [
            "Training on selected features.\n",
            "Max depth = 5, score = 0.974\n",
            "Max depth = 4, score = 0.974\n",
            "Max depth = 3, score = 0.979\n",
            "Max depth = 2, score = 0.979\n",
            "Max depth = 1, score = 0.974\n",
            "\n",
            "\n",
            "\n",
            "Training on all features.\n",
            "Max depth = 5, score = 0.974\n",
            "Max depth = 4, score = 0.969\n",
            "Max depth = 3, score = 0.979\n",
            "Max depth = 2, score = 0.979\n",
            "Max depth = 1, score = 0.969\n"
          ]
        }
      ],
      "source": [
        "from sklearn.tree import DecisionTreeClassifier\n",
        "from sklearn.pipeline import make_pipeline\n",
        "from sklearn.preprocessing import StandardScaler\n",
        "from sklearn.metrics import confusion_matrix\n",
        "from sklearn.model_selection import cross_val_score\n",
        "\n",
        "max_depth = 5           #iterator for selected features\n",
        "max_depthC = 5          #iterator for complete features\n",
        "\n",
        "best_score_DT = 0       #keeping track of highest accuracy for selected features\n",
        "best_score_DTC = 0      #keeping track of highest accuracy for complete features\n",
        "\n",
        "print(\"Training on selected features.\")\n",
        "\n",
        "#train on decision tree classifier using selected features\n",
        "while max_depth != 0:\n",
        "    DT_algeria = make_pipeline(StandardScaler(), DecisionTreeClassifier(max_depth=max_depth))\n",
        "    DT_algeria.fit(X_train_algeria[selected_features_algeria], y_train_algeria)\n",
        "\n",
        "    cv_scores = cross_val_score(DT_algeria, X_train_algeria[selected_features_algeria], y_train_algeria, cv=5)\n",
        "    mean_score = cv_scores.mean()\n",
        "    print(f\"Max depth = {max_depth}, score = {mean_score.round(3)}\")\n",
        "\n",
        "    #keeping the list of columns for the max_depth with the best score \n",
        "    if (DT_algeria.score(X_train_algeria[selected_features_algeria], y_train_algeria) > best_score_DT):\n",
        "        best_score_DT = DT_algeria.score(X_train_algeria[selected_features_algeria], y_train_algeria)\n",
        "        best_DT = DT_algeria\n",
        "        best_max_depth = max_depth\n",
        "    \n",
        "    max_depth += -1\n",
        "\n",
        "print(\"\\n\\n\")\n",
        "print(\"Training on all features.\")\n",
        "\n",
        "#train on decision tree classifier using all features\n",
        "while max_depthC != 0:\n",
        "    DT_algeria_complete = make_pipeline(StandardScaler(), DecisionTreeClassifier(max_depth=max_depthC))\n",
        "    DT_algeria_complete.fit(X_train_algeria, y_train_algeria)\n",
        "    \n",
        "    cv_scores = cross_val_score(DT_algeria_complete, X_train_algeria, y_train_algeria, cv=5)\n",
        "    mean_score = cv_scores.mean()\n",
        "    print(f\"Max depth = {max_depthC}, score = {mean_score.round(3)}\")\n",
        "\n",
        "    #keeping the list of columns for the max_depth with the best score \n",
        "    if (DT_algeria_complete.score(X_train_algeria, y_train_algeria) > best_score_DTC):\n",
        "        best_score_DTC = DT_algeria_complete.score(X_train_algeria, y_train_algeria)\n",
        "        best_DTC = DT_algeria_complete\n",
        "        best_max_depth = max_depthC\n",
        "    \n",
        "    max_depthC += -1"
      ]
    },
    {
      "attachments": {},
      "cell_type": "markdown",
      "metadata": {
        "id": "0tnQF8KuUc2A"
      },
      "source": [
        "### Logistic regression classifier on Algeria"
      ]
    },
    {
      "cell_type": "code",
      "execution_count": null,
      "metadata": {
        "colab": {
          "base_uri": "https://localhost:8080/"
        },
        "id": "DbTuLeI2kmtM",
        "outputId": "b7050f16-a004-410c-bef8-888b3313d9e6"
      },
      "outputs": [
        {
          "name": "stdout",
          "output_type": "stream",
          "text": [
            "Training Accuracy for LR using selected features: 0.9742268041237113\n",
            "\n",
            "Training Accuracy for LR using all features: 0.9896907216494846\n",
            "\n"
          ]
        },
        {
          "name": "stderr",
          "output_type": "stream",
          "text": [
            "/usr/local/lib/python3.10/dist-packages/sklearn/linear_model/_logistic.py:458: ConvergenceWarning: lbfgs failed to converge (status=1):\n",
            "STOP: TOTAL NO. of ITERATIONS REACHED LIMIT.\n",
            "\n",
            "Increase the number of iterations (max_iter) or scale the data as shown in:\n",
            "    https://scikit-learn.org/stable/modules/preprocessing.html\n",
            "Please also refer to the documentation for alternative solver options:\n",
            "    https://scikit-learn.org/stable/modules/linear_model.html#logistic-regression\n",
            "  n_iter_i = _check_optimize_result(\n"
          ]
        }
      ],
      "source": [
        "from sklearn.linear_model import LogisticRegression\n",
        "\n",
        "#train on selected features via logistic regression\n",
        "LR_algeria = LogisticRegression()\n",
        "LR_algeria.fit(X_train_algeria[selected_features_algeria], y_train_algeria)\n",
        "\n",
        "print(f\"Training Accuracy for LR using selected features: {LR_algeria.score(X_train_algeria[selected_features_algeria], y_train_algeria)}\")\n",
        "\n",
        "#train on complete dataset\n",
        "LR_algeria_complete = LogisticRegression()\n",
        "LR_algeria_complete.fit(X_train_algeria, y_train_algeria)\n",
        "\n",
        "print(f\"\\nTraining Accuracy for LR using all features: {LR_algeria_complete.score(X_train_algeria, y_train_algeria)}\\n\")\n"
      ]
    },
    {
      "attachments": {},
      "cell_type": "markdown",
      "metadata": {
        "id": "NgLMbjGufpDR"
      },
      "source": [
        "### Random forest classifier on Algeria"
      ]
    },
    {
      "cell_type": "code",
      "execution_count": null,
      "metadata": {
        "colab": {
          "base_uri": "https://localhost:8080/"
        },
        "id": "EkPXuem_f32N",
        "outputId": "15136e8d-ae07-4d2c-89d3-caf326a465a1"
      },
      "outputs": [
        {
          "name": "stdout",
          "output_type": "stream",
          "text": [
            "Training on selected features.\n",
            "Max depth = 5, score = 0.974\n",
            "Max depth = 4, score = 0.974\n",
            "Max depth = 3, score = 0.974\n",
            "Max depth = 2, score = 0.974\n",
            "Max depth = 1, score = 0.974\n",
            "\n",
            "\n",
            "\n",
            "Training on all features.\n",
            "Max depth = 5, score = 0.974\n",
            "Max depth = 4, score = 0.974\n",
            "Max depth = 3, score = 0.974\n",
            "Max depth = 2, score = 0.974\n",
            "Max depth = 1, score = 0.943\n"
          ]
        }
      ],
      "source": [
        "from sklearn.ensemble import RandomForestClassifier\n",
        "\n",
        "max_depth = 5           #iterator for selected features\n",
        "max_depthC = 5          #iterator for complete features\n",
        "\n",
        "best_score_RF = 0       #keeping track of highest accuracy for selected features\n",
        "best_score_RFC = 0      #keeping track of highest accuracy for complete features\n",
        "\n",
        "print(\"Training on selected features.\")\n",
        "\n",
        "#train on random forest classifier using selected features\n",
        "while max_depth != 0:\n",
        "    RF_algeria = make_pipeline(StandardScaler(), RandomForestClassifier(max_depth=max_depth, random_state=0))\n",
        "    RF_algeria.fit(X_train_algeria[selected_features_algeria], y_train_algeria)\n",
        "\n",
        "    cv_scores_RF_algeria = cross_val_score(RF_algeria, X_train_algeria[selected_features_algeria], y_train_algeria, cv=5)\n",
        "    mean_score = cv_scores_RF_algeria.mean()\n",
        "    print(f\"Max depth = {max_depth}, score = {mean_score.round(3)}\")\n",
        "\n",
        "    #keeping the list of columns for the max_depth with the best score \n",
        "    if (RF_algeria.score(X_train_algeria[selected_features_algeria], y_train_algeria) > best_score_RF):\n",
        "        best_score_RF = RF_algeria.score(X_train_algeria[selected_features_algeria], y_train_algeria)\n",
        "        best_RF = RF_algeria\n",
        "        best_max_depth = max_depth\n",
        "    \n",
        "    max_depth += -1\n",
        "  \n",
        "print(\"\\n\\n\")\n",
        "print(\"Training on all features.\")\n",
        "\n",
        "#train on random forest classifier using all features\n",
        "while max_depthC != 0:\n",
        "    RF_algeria_complete = make_pipeline(StandardScaler(), RandomForestClassifier(max_depth=max_depthC, random_state=0))\n",
        "    RF_algeria_complete.fit(X_train_algeria, y_train_algeria)\n",
        "    \n",
        "    cv_scores_RF_algeria_complete = cross_val_score(RF_algeria_complete, X_train_algeria, y_train_algeria, cv=5)\n",
        "    mean_score = cv_scores_RF_algeria_complete.mean()\n",
        "    print(f\"Max depth = {max_depthC}, score = {mean_score.round(3)}\")\n",
        "\n",
        "    # keeping the list of columns for the max_depth with the best score \n",
        "    if (RF_algeria_complete.score(X_train_algeria, y_train_algeria) > best_score_RFC):\n",
        "        best_score_RFC = RF_algeria_complete.score(X_train_algeria, y_train_algeria)\n",
        "        best_RFC = RF_algeria_complete\n",
        "        best_max_depth = max_depthC\n",
        "    \n",
        "    max_depthC += -1"
      ]
    },
    {
      "attachments": {},
      "cell_type": "markdown",
      "metadata": {
        "id": "xFNsIcGTj6bO"
      },
      "source": [
        "### Stochastic gradient descent on Algeria"
      ]
    },
    {
      "cell_type": "code",
      "execution_count": null,
      "metadata": {
        "colab": {
          "base_uri": "https://localhost:8080/"
        },
        "id": "mcK36TgFj5jQ",
        "outputId": "ec69ff26-ce1b-4fde-d5eb-e16368def62f"
      },
      "outputs": [
        {
          "name": "stdout",
          "output_type": "stream",
          "text": [
            "Training Accuracy for SGD using selected features: 0.8556701030927835\n",
            "\n",
            "Training Accuracy for SGD using all features: 0.5567010309278351 \n",
            "\n"
          ]
        },
        {
          "name": "stderr",
          "output_type": "stream",
          "text": [
            "/usr/local/lib/python3.10/dist-packages/sklearn/linear_model/_stochastic_gradient.py:702: ConvergenceWarning: Maximum number of iteration reached before convergence. Consider increasing max_iter to improve the fit.\n",
            "  warnings.warn(\n",
            "/usr/local/lib/python3.10/dist-packages/sklearn/linear_model/_stochastic_gradient.py:702: ConvergenceWarning: Maximum number of iteration reached before convergence. Consider increasing max_iter to improve the fit.\n",
            "  warnings.warn(\n"
          ]
        }
      ],
      "source": [
        "from sklearn.linear_model import SGDClassifier\n",
        "\n",
        "SGD_algeria = SGDClassifier(loss=\"hinge\", penalty=\"l2\", max_iter=10)\n",
        "SGD_algeria.fit(X_train_algeria[selected_features_algeria], y_train_algeria)\n",
        "\n",
        "print(f\"Training Accuracy for SGD using selected features: {SGD_algeria.score(X_train_algeria[selected_features_algeria], y_train_algeria)}\")\n",
        "\n",
        "SGD_algeria_complete = SGDClassifier(loss=\"hinge\", penalty=\"l2\", max_iter=10)\n",
        "SGD_algeria_complete.fit(X_train_algeria, y_train_algeria)\n",
        "\n",
        "print(f\"\\nTraining Accuracy for SGD using all features: {SGD_algeria_complete.score(X_train_algeria, y_train_algeria)} \\n\")\n",
        "\n"
      ]
    },
    {
      "attachments": {},
      "cell_type": "markdown",
      "metadata": {
        "id": "CL-tmvIQl3J7"
      },
      "source": [
        "## Training on Portugal dataset:\n",
        "\n",
        "We will train the algeria data on 4 different classifiers: \n",
        "1. Linear Regression\n",
        "2. Logistic Regression \n",
        "3. Support Vector Classification\n",
        "4. Epsilon-Support Vector Regression\n",
        "\n",
        "Here, we will train the models on Portugal's 5 slected features from RidgeCV, features highlighted by the paper, and it's complete set of features. The 5 selected features from RidgeCV are:  X, Y, ISI, temp, and wind. The features highlighted by the paper are: temp, RH, rain, and wind.\n",
        "\n",
        "We will also perform transformations on our target label to improve the models' accuracy. We transformed our target labels to log, binary, range, and categorical values. \n",
        "\n",
        "In addition, we will use cross validation to evaluate each model's performance at different settings and avoid overfitting. \n",
        "\n"
      ]
    },
    {
      "cell_type": "code",
      "execution_count": null,
      "metadata": {
        "id": "HjvDlr1zTqu3"
      },
      "outputs": [],
      "source": [
        "from sklearn import preprocessing\n",
        "from sklearn import utils\n",
        "\n",
        "#fetures highlighted by paper\n",
        "papers_features = [\"temp\", \"RH\", \"rain\", \"wind\"]\n",
        "\n",
        "\n",
        "#convert labels to categorical values\n",
        "lab = preprocessing.LabelEncoder()\n",
        "y_train_transformed = lab.fit_transform(y_train_portugal)"
      ]
    },
    {
      "cell_type": "code",
      "execution_count": null,
      "metadata": {
        "id": "CuNawWZsAz8c"
      },
      "outputs": [],
      "source": [
        "# make a copy of df and change labels to 0 and non 0s (binary)\n",
        "portugal_df_copy = portugal_df.copy()\n",
        "portugal_df_copy.loc[portugal_df_copy[\"area\"] > 0.0] = 1\n",
        "portugal_df_copy.loc[portugal_df_copy[\"area\"] <= 0.0] = 0\n",
        "\n",
        "portugal_train_binary, portugal_test_binary = train_test_split(portugal_df_copy, test_size=0.2, random_state=25)\n",
        "\n",
        "y_train_portugal_binary = portugal_train_binary[\"area\"]\n",
        "y_test_portugal_binary = portugal_test_binary[\"area\"]\n",
        "\n",
        "X_train_portugal_binary = portugal_train_binary.drop([\"area\"], axis=1)\n",
        "X_test_portugal_binary = portugal_test_binary.drop([\"area\"], axis=1)\n",
        "\n"
      ]
    },
    {
      "cell_type": "code",
      "execution_count": null,
      "metadata": {
        "colab": {
          "base_uri": "https://localhost:8080/"
        },
        "id": "VuocIx7XIiPp",
        "outputId": "0d3c5135-1541-4362-b8c9-45fdf2183e88"
      },
      "outputs": [
        {
          "name": "stdout",
          "output_type": "stream",
          "text": [
            "1090.84\n"
          ]
        }
      ],
      "source": [
        "# make a copy of df and change labels to a range\n",
        "portugal_df_copy2 = portugal_df.copy()\n",
        "\n",
        "print(portugal_df_copy2[\"area\"].max())\n",
        "ranges = portugal_df_copy2[\"area\"].max()  / 50\n",
        "\n",
        "portugal_df_copy2.loc[portugal_df_copy2[\"area\"] <= 0.0] = 0.0\n",
        "\n",
        "for i in range(50):\n",
        "  portugal_df_copy2.loc[(portugal_df_copy2[\"area\"] > (ranges * i)) & (portugal_df_copy2[\"area\"] <= ranges * (i+1))] = ranges * (i+1)\n",
        "\n",
        "portugal_train_range, portugal_test_range = train_test_split(portugal_df_copy2, test_size=0.2, random_state=25)\n",
        "\n",
        "y_train_portugal_range = portugal_train_range[\"area\"]\n",
        "y_test_portugal_range = portugal_test_range[\"area\"]\n",
        "\n",
        "X_train_portugal_range = portugal_train_range.drop([\"area\"], axis=1)\n",
        "X_test_portugal_range = portugal_test_range.drop([\"area\"], axis=1)"
      ]
    },
    {
      "attachments": {},
      "cell_type": "markdown",
      "metadata": {
        "id": "dZvc6EXtL_uW"
      },
      "source": [
        "### Linear regression classifier on Portugal "
      ]
    },
    {
      "cell_type": "code",
      "execution_count": null,
      "metadata": {
        "colab": {
          "base_uri": "https://localhost:8080/"
        },
        "id": "QigJ5MY3-P6W",
        "outputId": "70ec6658-0bd5-4b70-8aca-db682112e6f7"
      },
      "outputs": [
        {
          "name": "stdout",
          "output_type": "stream",
          "text": [
            "Training Accuracy for linear regression: 0.04793115962477279\n"
          ]
        }
      ],
      "source": [
        "from sklearn.linear_model import LinearRegression\n",
        "\n",
        "#train on non-transformed y\n",
        "LinR_portugal = LinearRegression()\n",
        "LinR_portugal.fit(X_train_portugal, y_train_portugal)\n",
        "\n",
        "print(\"Training Accuracy for linear regression: \" + str(LinR_portugal.score(X_train_portugal, y_train_portugal)))"
      ]
    },
    {
      "cell_type": "code",
      "execution_count": null,
      "metadata": {
        "colab": {
          "base_uri": "https://localhost:8080/"
        },
        "id": "wWkE1MwkR694",
        "outputId": "c7b31d1a-53f7-403b-c5a7-cd94b8ac5dde"
      },
      "outputs": [
        {
          "name": "stdout",
          "output_type": "stream",
          "text": [
            "Training Accuracy for linear regression: 1.0\n"
          ]
        }
      ],
      "source": [
        "#train on y-train that was split into 50 ranges\n",
        "LinR_portugal = LinearRegression()\n",
        "LinR_portugal.fit(X_train_portugal_range, y_train_portugal_range)\n",
        "\n",
        "print(\"Training Accuracy for linear regression: \" + str(LinR_portugal.score(X_train_portugal_range, y_train_portugal_range)))"
      ]
    },
    {
      "cell_type": "code",
      "execution_count": null,
      "metadata": {
        "colab": {
          "base_uri": "https://localhost:8080/"
        },
        "id": "AiF11WWPjwHU",
        "outputId": "0495799e-b869-4a0d-8a92-9978937f7fc8"
      },
      "outputs": [
        {
          "name": "stdout",
          "output_type": "stream",
          "text": [
            "Training Accuracy for linear regression: 1.0\n"
          ]
        }
      ],
      "source": [
        "#train on y transformed into binary labels\n",
        "LinR_portugal_complete_binary = LinearRegression()\n",
        "LinR_portugal_complete_binary.fit(X_train_portugal_binary, y_train_portugal_binary)\n",
        "\n",
        "print(\"Training Accuracy for linear regression: \" + str(LinR_portugal_complete_binary.score(X_train_portugal_binary, y_train_portugal_binary)))"
      ]
    },
    {
      "cell_type": "code",
      "execution_count": null,
      "metadata": {
        "colab": {
          "base_uri": "https://localhost:8080/"
        },
        "id": "HX2qlQOLL-5h",
        "outputId": "a3090b2e-0c61-4d37-c2dc-b6b4aee325dc"
      },
      "outputs": [
        {
          "name": "stdout",
          "output_type": "stream",
          "text": [
            "Cross val scores for features highlited by paper: [ 0.01875518 -0.03799198 -0.01599223 -0.97997841 -0.01931605]\n",
            "Training Accuracy for linear regression: 0.014415847547068927\n",
            "\n",
            "Cross val scores for all features: [ 0.02493997 -0.06590393 -0.06223167 -1.37012855 -0.21533972]\n",
            "Training Accuracy for linear regression: 0.07364043558950595\n",
            "\n",
            "Cross val scores for features selected by RidgeCV: [ 0.01855795 -0.05131269 -0.02041167  0.00572244 -0.11218235]\n",
            "Training Accuracy for linear regression: 0.021379727090125145\n"
          ]
        }
      ],
      "source": [
        "#train on y transformed into categorical values\n",
        "\n",
        "#train on paper's features\n",
        "LinR_portugal_paper = LinearRegression()\n",
        "LinR_portugal_paper.fit(X_train_portugal[papers_features], y_train_transformed)\n",
        "\n",
        "cv_scores_portugal = cross_val_score(LinR_portugal_paper, X_train_portugal[papers_features], y_train_transformed, cv=5)\n",
        "\n",
        "print(f\"Cross val scores for features highlited by paper: {cv_scores_portugal}\")\n",
        "print(\"Training Accuracy for linear regression: \" + str(LinR_portugal_paper.score(X_train_portugal[papers_features], y_train_transformed)))\n",
        "\n",
        "\n",
        "#train on all features\n",
        "LinR_portugal_complete = LinearRegression()\n",
        "LinR_portugal_complete.fit(X_train_portugal, y_train_transformed)\n",
        "\n",
        "cv_scores_portugal = cross_val_score(LinR_portugal_complete, X_train_portugal, y_train_transformed, cv=5)\n",
        "\n",
        "print(f\"\\nCross val scores for all features: {cv_scores_portugal}\")\n",
        "print(\"Training Accuracy for linear regression: \" + str(LinR_portugal_complete.score(X_train_portugal, y_train_transformed)))\n",
        "\n",
        "\n",
        "#train on featured selected by RidgeCV\n",
        "LinR_portugal_selected = LinearRegression()\n",
        "LinR_portugal_selected.fit(X_train_portugal[selected_features_portugal], y_train_transformed)\n",
        "\n",
        "cv_scores_portugal = cross_val_score(LinR_portugal_selected, X_train_portugal[selected_features_portugal], y_train_transformed, cv=5)\n",
        "\n",
        "print(f\"\\nCross val scores for features selected by RidgeCV: {cv_scores_portugal}\")\n",
        "print(\"Training Accuracy for linear regression: \" + str(LinR_portugal_selected.score(X_train_portugal[selected_features_portugal], y_train_transformed)))\n"
      ]
    },
    {
      "attachments": {},
      "cell_type": "markdown",
      "metadata": {
        "id": "Zus04rx5CFaW"
      },
      "source": [
        "## Logistic Regression on Portugal"
      ]
    },
    {
      "cell_type": "code",
      "execution_count": null,
      "metadata": {
        "colab": {
          "base_uri": "https://localhost:8080/"
        },
        "id": "3ZWcFmaQiS_9",
        "outputId": "cedff556-bfb5-4c94-c8c6-88b2eb0f2e2d"
      },
      "outputs": [
        {
          "name": "stdout",
          "output_type": "stream",
          "text": [
            "\n",
            "Training Accuracy for logistic regression: 1.0\n"
          ]
        }
      ],
      "source": [
        "#train on paper's features and using binary labels \n",
        "LogR_portugal_binary = LogisticRegression()\n",
        "LogR_portugal_binary.fit(X_train_portugal_binary, y_train_portugal_binary)\n",
        "\n",
        "print(f\"\\nTraining Accuracy for logistic regression: {LogR_portugal_binary.score(X_train_portugal_binary, y_train_portugal_binary)}\")"
      ]
    },
    {
      "cell_type": "code",
      "execution_count": null,
      "metadata": {
        "colab": {
          "base_uri": "https://localhost:8080/"
        },
        "id": "F6zeT79hB89q",
        "outputId": "9d493843-bdc9-4a35-ce63-eb410b4d763f"
      },
      "outputs": [
        {
          "name": "stderr",
          "output_type": "stream",
          "text": [
            "/usr/local/lib/python3.10/dist-packages/sklearn/linear_model/_logistic.py:458: ConvergenceWarning: lbfgs failed to converge (status=1):\n",
            "STOP: TOTAL NO. of ITERATIONS REACHED LIMIT.\n",
            "\n",
            "Increase the number of iterations (max_iter) or scale the data as shown in:\n",
            "    https://scikit-learn.org/stable/modules/preprocessing.html\n",
            "Please also refer to the documentation for alternative solver options:\n",
            "    https://scikit-learn.org/stable/modules/linear_model.html#logistic-regression\n",
            "  n_iter_i = _check_optimize_result(\n"
          ]
        },
        {
          "name": "stdout",
          "output_type": "stream",
          "text": [
            "\n",
            "Training Accuracy for logistic regression using features highlighted by the paper: 0.48184019370460046\n",
            "\n"
          ]
        },
        {
          "name": "stderr",
          "output_type": "stream",
          "text": [
            "/usr/local/lib/python3.10/dist-packages/sklearn/linear_model/_logistic.py:458: ConvergenceWarning: lbfgs failed to converge (status=1):\n",
            "STOP: TOTAL NO. of ITERATIONS REACHED LIMIT.\n",
            "\n",
            "Increase the number of iterations (max_iter) or scale the data as shown in:\n",
            "    https://scikit-learn.org/stable/modules/preprocessing.html\n",
            "Please also refer to the documentation for alternative solver options:\n",
            "    https://scikit-learn.org/stable/modules/linear_model.html#logistic-regression\n",
            "  n_iter_i = _check_optimize_result(\n"
          ]
        },
        {
          "name": "stdout",
          "output_type": "stream",
          "text": [
            "\n",
            "Training Accuracy for logistic regression using all features: 0.46246973365617433\n",
            "\n",
            "\n",
            "Training Accuracy for logistic regression using features selected by RidgeCV: 0.513317191283293\n",
            "\n"
          ]
        },
        {
          "name": "stderr",
          "output_type": "stream",
          "text": [
            "/usr/local/lib/python3.10/dist-packages/sklearn/linear_model/_logistic.py:458: ConvergenceWarning: lbfgs failed to converge (status=1):\n",
            "STOP: TOTAL NO. of ITERATIONS REACHED LIMIT.\n",
            "\n",
            "Increase the number of iterations (max_iter) or scale the data as shown in:\n",
            "    https://scikit-learn.org/stable/modules/preprocessing.html\n",
            "Please also refer to the documentation for alternative solver options:\n",
            "    https://scikit-learn.org/stable/modules/linear_model.html#logistic-regression\n",
            "  n_iter_i = _check_optimize_result(\n"
          ]
        }
      ],
      "source": [
        "from sklearn.linear_model import LogisticRegression\n",
        "#train on y transformed into categorical values\n",
        "\n",
        "#train on paper's features\n",
        "LogR_portugal_paper = LogisticRegression()\n",
        "LogR_portugal_paper.fit(X_train_portugal[papers_features], y_train_transformed)\n",
        "\n",
        "print(f\"\\nTraining Accuracy for logistic regression using features highlighted by the paper: {LogR_portugal_paper.score(X_train_portugal[papers_features], y_train_transformed)}\\n\")\n",
        "\n",
        "#train on complete dataset\n",
        "LogR_portugal_complete = LogisticRegression()\n",
        "LogR_portugal_complete.fit(X_train_portugal, y_train_transformed)\n",
        "\n",
        "print(f\"\\nTraining Accuracy for logistic regression using all features: {LogR_portugal_complete.score(X_train_portugal, y_train_transformed)}\\n\")\n",
        "\n",
        "#train on features selected by RidgeCV\n",
        "LogR_portugal_selected = LogisticRegression()\n",
        "LogR_portugal_selected.fit(X_train_portugal[selected_features_portugal], y_train_transformed)\n",
        "\n",
        "print(f\"\\nTraining Accuracy for logistic regression using features selected by RidgeCV: {LogR_portugal_selected.score(X_train_portugal[selected_features_portugal], y_train_transformed)}\\n\")"
      ]
    },
    {
      "attachments": {},
      "cell_type": "markdown",
      "metadata": {
        "id": "MEYcZ0F3Jk7b"
      },
      "source": [
        "## Support Vector Classifcation on Portugal"
      ]
    },
    {
      "cell_type": "code",
      "execution_count": null,
      "metadata": {
        "colab": {
          "base_uri": "https://localhost:8080/"
        },
        "id": "n3Jm4I2rHIRu",
        "outputId": "5effc21e-ca4b-48aa-f2dd-355ae65ce69a"
      },
      "outputs": [
        {
          "name": "stdout",
          "output_type": "stream",
          "text": [
            "\n",
            "Training Accuracy for SVC using features highlighted from the paper: 0.48184019370460046\n",
            "\n",
            "Training Accuracy for SVC using all features: 0.4794188861985472\n",
            "\n",
            "Training Accuracy for SVC using features selected by RidgeCV: 0.49878934624697335\n"
          ]
        }
      ],
      "source": [
        "from sklearn import svm\n",
        "#train on y transformed into categorical values\n",
        "\n",
        "#train on paper's features\n",
        "SVC_portugal_paper = svm.SVC(kernel='poly', degree=3)\n",
        "SVC_portugal_paper.fit(X_train_portugal[papers_features], y_train_transformed)\n",
        "print(f\"\\nTraining Accuracy for SVC using features highlighted from the paper: {SVC_portugal_paper.score(X_train_portugal[papers_features], y_train_transformed)}\")\n",
        "\n",
        "#train on all features\n",
        "SVC_portugal_complete = svm.SVC(kernel='poly', degree=3)\n",
        "SVC_portugal_complete.fit(X_train_portugal, y_train_transformed)\n",
        "print(f\"\\nTraining Accuracy for SVC using all features: {SVC_portugal_complete.score(X_train_portugal, y_train_transformed)}\")\n",
        "\n",
        "#train on features selected by RidgeCV\n",
        "SVC_portugal_selected = svm.SVC(kernel='poly', degree=3)\n",
        "SVC_portugal_selected.fit(X_train_portugal[selected_features_portugal], y_train_transformed)\n",
        "print(f\"\\nTraining Accuracy for SVC using features selected by RidgeCV: {SVC_portugal_selected.score(X_train_portugal[selected_features_portugal], y_train_transformed)}\")"
      ]
    },
    {
      "attachments": {},
      "cell_type": "markdown",
      "metadata": {
        "id": "N6uAvT-LQ4JX"
      },
      "source": [
        "### SVR on Portugal"
      ]
    },
    {
      "cell_type": "code",
      "execution_count": null,
      "metadata": {
        "colab": {
          "base_uri": "https://localhost:8080/"
        },
        "id": "Xy8phzlePcaN",
        "outputId": "c07d6d6c-cb18-42f6-d692-0fd87eb6e5a6"
      },
      "outputs": [
        {
          "name": "stdout",
          "output_type": "stream",
          "text": [
            "Cross val scores for selected features: [-0.02603315 -0.16955323 -0.20086096 -0.17891782 -0.03004511]\n",
            "Training Accuracy for SVC: -0.026964073944544698\n",
            "\n",
            "Cross val scores for all features: [-0.02601154 -0.16531766 -0.20141533 -0.16730645 -0.03065345]\n",
            "Training Accuracy for SVC: -0.0259967252082014\n",
            "\n",
            "Cross val scores for features selected by RidgeCV: [-0.02547019 -0.14594411 -0.18518067 -0.14792468 -0.03294225]\n",
            "Training Accuracy for SVC: -0.02569288926430735\n"
          ]
        }
      ],
      "source": [
        "from sklearn.pipeline import make_pipeline\n",
        "from sklearn.preprocessing import StandardScaler\n",
        "from sklearn.svm import SVR\n",
        "\n",
        "#training on y transformed gave worst accuracy, so we went ahead and trained on the original y labels\n",
        "\n",
        "#train on paper's features\n",
        "SVR_portugal_paper = make_pipeline(StandardScaler(), SVR(gamma='auto'))\n",
        "SVR_portugal_paper.fit(X_train_portugal[papers_features], y_train_portugal)\n",
        "\n",
        "cv_scores_SVR = cross_val_score(SVR_portugal_paper, X_train_portugal[papers_features], y_train_portugal, cv=5)\n",
        "\n",
        "print(f\"Cross val scores for selected features: {cv_scores_SVR}\")\n",
        "print(\"Training Accuracy for SVC: \" + str(SVR_portugal_paper.score(X_train_portugal[papers_features], y_train_portugal)))\n",
        "\n",
        "#train on all features\n",
        "SVR_portugal_complete = make_pipeline(StandardScaler(), SVR(gamma='auto'))\n",
        "SVR_portugal_complete.fit(X_train_portugal, y_train_portugal)\n",
        "\n",
        "cv_scores_SVR = cross_val_score(SVR_portugal_complete, X_train_portugal, y_train_portugal, cv=5)\n",
        "\n",
        "print(f\"\\nCross val scores for all features: {cv_scores_SVR}\")\n",
        "print(\"Training Accuracy for SVC: \" + str(SVR_portugal_complete.score(X_train_portugal, y_train_portugal)))\n",
        "\n",
        "#train on features selected by RidgeCV\n",
        "SVR_portugal_selected = make_pipeline(StandardScaler(), SVR(gamma='auto'))\n",
        "SVR_portugal_selected.fit(X_train_portugal[selected_features_portugal], y_train_portugal)\n",
        "\n",
        "cv_scores_SVR = cross_val_score(SVR_portugal_selected, X_train_portugal[selected_features_portugal], y_train_portugal, cv=5)\n",
        "\n",
        "print(f\"\\nCross val scores for features selected by RidgeCV: {cv_scores_SVR}\")\n",
        "print(\"Training Accuracy for SVC: \" + str(SVR_portugal_selected.score(X_train_portugal[selected_features_portugal], y_train_portugal)))"
      ]
    },
    {
      "attachments": {},
      "cell_type": "markdown",
      "metadata": {
        "id": "hn5HFTPcQ2gc"
      },
      "source": [
        "### Log-transform then fit again \n",
        "\n",
        "We'll log-transform the values and then train the models on them again to see if this yields better accuracy."
      ]
    },
    {
      "cell_type": "code",
      "execution_count": null,
      "metadata": {
        "colab": {
          "base_uri": "https://localhost:8080/"
        },
        "id": "FqAijgJORE4q",
        "outputId": "b9e15190-789a-4a25-8d75-b50a618589d1"
      },
      "outputs": [
        {
          "name": "stdout",
          "output_type": "stream",
          "text": [
            "Training Accuracy for linear regression after log-transform with paper's features: -0.02135912961710429\n",
            "\n",
            "Training Accuracy for linear regression after log-transform with all features: -0.01670568262633898\n",
            "\n",
            "Training Accuracy for linear regression after log-transform with ridgeCV features: -0.01953918401847443\n"
          ]
        }
      ],
      "source": [
        "#log-transform target labels\n",
        "y_train_log_transformed = np.log(y_train_portugal+1)\n",
        "\n",
        "#using linear regression to train on log-transformed y\n",
        "\n",
        "#paper's features\n",
        "LinR_portugal_paper_log = LinearRegression()\n",
        "LinR_portugal_paper_log.fit(X_train_portugal[papers_features], y_train_log_transformed)\n",
        "\n",
        "predictions = LinR_portugal_paper_log.predict(X_train_portugal[papers_features])\n",
        "predictions_transformed = np.exp(predictions) - 1\n",
        "\n",
        "u = ((y_train_portugal - predictions_transformed)** 2).sum()\n",
        "v = ((y_train_portugal - y_train_portugal.mean()) ** 2).sum()\n",
        "score = 1 - u/v\n",
        "print(f\"Training Accuracy for linear regression after log-transform with paper's features: {score}\")\n",
        "\n",
        "#all features\n",
        "LinR_portugal_complete_log = LinearRegression()\n",
        "LinR_portugal_complete_log.fit(X_train_portugal, y_train_log_transformed)\n",
        "\n",
        "predictions = LinR_portugal_complete_log.predict(X_train_portugal)\n",
        "predictions_transformed = np.exp(predictions) - 1\n",
        "\n",
        "u = ((y_train_portugal - predictions_transformed)** 2).sum()\n",
        "v = ((y_train_portugal - y_train_portugal.mean()) ** 2).sum()\n",
        "score = 1 - u/v\n",
        "print(f\"\\nTraining Accuracy for linear regression after log-transform with all features: {score}\")\n",
        "\n",
        "#RidgeCV features\n",
        "LinR_portugal_selected_log = LinearRegression()\n",
        "LinR_portugal_selected_log.fit(X_train_portugal[selected_features_portugal], y_train_log_transformed)\n",
        "\n",
        "predictions = LinR_portugal_selected_log.predict(X_train_portugal[selected_features_portugal])\n",
        "predictions_transformed = np.exp(predictions) - 1\n",
        "\n",
        "u = ((y_train_portugal - predictions_transformed)** 2).sum()\n",
        "v = ((y_train_portugal - y_train_portugal.mean()) ** 2).sum()\n",
        "score = 1 - u/v\n",
        "print(f\"\\nTraining Accuracy for linear regression after log-transform with ridgeCV features: {score}\")"
      ]
    },
    {
      "cell_type": "code",
      "execution_count": null,
      "metadata": {
        "colab": {
          "base_uri": "https://localhost:8080/"
        },
        "id": "vXIxvr_9Rvwd",
        "outputId": "aa513cc7-752e-481b-a93a-16b0301f5b71"
      },
      "outputs": [
        {
          "name": "stdout",
          "output_type": "stream",
          "text": [
            "Training Accuracy for SVR after log-transform: -0.025953112452074434\n",
            "\n",
            "Training Accuracy for SVR after log-transform: -0.02414013462072151\n",
            "\n",
            "Training Accuracy for SVR after log-transform: -0.0248659859046918\n"
          ]
        }
      ],
      "source": [
        "#using SVR to train on log-transformed y\n",
        "\n",
        "#paper's features\n",
        "SVR_portugal_paper_log = make_pipeline(StandardScaler(), SVR(gamma='auto'))\n",
        "SVR_portugal_paper_log.fit(X_train_portugal[papers_features], y_train_log_transformed)\n",
        "\n",
        "predictions = SVR_portugal_paper_log.predict(X_train_portugal[papers_features])\n",
        "predictions_transformed = np.exp(predictions) - 1\n",
        "\n",
        "u = ((y_train_portugal - predictions_transformed)** 2).sum()\n",
        "v = ((y_train_portugal - y_train_portugal.mean()) ** 2).sum()\n",
        "score = 1 - u/v\n",
        "print(f\"Training Accuracy for SVR after log-transform: {score}\")\n",
        "\n",
        "#all features\n",
        "SVR_portugal_complete_log = make_pipeline(StandardScaler(), SVR(gamma='auto'))\n",
        "SVR_portugal_complete_log.fit(X_train_portugal, y_train_log_transformed)\n",
        "\n",
        "predictions = SVR_portugal_complete_log.predict(X_train_portugal)\n",
        "predictions_transformed = np.exp(predictions) - 1\n",
        "\n",
        "u = ((y_train_portugal - predictions_transformed)** 2).sum()\n",
        "v = ((y_train_portugal - y_train_portugal.mean()) ** 2).sum()\n",
        "score = 1 - u/v\n",
        "print(f\"\\nTraining Accuracy for SVR after log-transform: {score}\")\n",
        "\n",
        "#ridgeCV features\n",
        "SVR_portugal_selected_log = make_pipeline(StandardScaler(), SVR(gamma='auto'))\n",
        "SVR_portugal_selected_log.fit(X_train_portugal[selected_features_portugal], y_train_log_transformed)\n",
        "\n",
        "predictions = SVR_portugal_selected_log.predict(X_train_portugal[selected_features_portugal])\n",
        "predictions_transformed = np.exp(predictions) - 1\n",
        "\n",
        "u = ((y_train_portugal - predictions_transformed)** 2).sum()\n",
        "v = ((y_train_portugal - y_train_portugal.mean()) ** 2).sum()\n",
        "score = 1 - u/v\n",
        "print(f\"\\nTraining Accuracy for SVR after log-transform: {score}\")"
      ]
    },
    {
      "attachments": {},
      "cell_type": "markdown",
      "metadata": {
        "id": "-8DFlDfHqaD4"
      },
      "source": [
        "# Testing our model for algeria dataset\n",
        "\n",
        "It looks like our logistic regression model performed the best on the Algeria training data given a full set of features. The model achieves about 98.97% accuracy on the training data, which is much better than the 50% we could have achieved by random guessing. \n",
        "\n",
        "Applying this machine learning model on our testing data, we achieve 100% accuracy rate."
      ]
    },
    {
      "cell_type": "code",
      "execution_count": null,
      "metadata": {
        "colab": {
          "base_uri": "https://localhost:8080/"
        },
        "id": "L8dKXbzqrdWo",
        "outputId": "e999f2bf-92f0-4b62-c3b6-3ef895d7b45c"
      },
      "outputs": [
        {
          "name": "stdout",
          "output_type": "stream",
          "text": [
            "\n",
            "Testing Accuracy for LR using all features: 1.0\n",
            "\n"
          ]
        }
      ],
      "source": [
        "print(f\"\\nTesting Accuracy for LR using all features: {LR_algeria_complete.score(X_test_algeria, y_test_algeria)}\\n\")"
      ]
    },
    {
      "attachments": {},
      "cell_type": "markdown",
      "metadata": {
        "id": "hwy6icq4rACh"
      },
      "source": [
        "Since our model achieved 100% accuracy on the Algeria testing data, we wanted to see where the model had made errors in the training data. Thus, we applied a confusion matrix to our logistic regression model on the training data to analyze where the model made errors, and the kind of errors it was making. Our model performed a bit better at predicting true positive for forest fire given the features. However, it also made more false positive errors, meaning it predicted that a fire occurred when there was no fire. Still, the model performed fairly well on both predictions. "
      ]
    },
    {
      "cell_type": "code",
      "execution_count": null,
      "metadata": {
        "colab": {
          "base_uri": "https://localhost:8080/"
        },
        "id": "fqEjZzd2tIFV",
        "outputId": "245af4b1-a69f-4c73-ca5f-c780ba428a19"
      },
      "outputs": [
        {
          "data": {
            "text/plain": [
              "array([[0.98863636, 0.01136364],\n",
              "       [0.00943396, 0.99056604]])"
            ]
          },
          "execution_count": 31,
          "metadata": {},
          "output_type": "execute_result"
        }
      ],
      "source": [
        "from sklearn.metrics import confusion_matrix\n",
        "\n",
        "y_pred_algeria = LR_algeria_complete.predict(X_train_algeria)\n",
        "\n",
        "confusion_matrix(y_train_algeria, y_pred_algeria)\n",
        "confusion_matrix(y_train_algeria, y_pred_algeria, normalize = \"true\")"
      ]
    },
    {
      "attachments": {},
      "cell_type": "markdown",
      "metadata": {
        "id": "EK35adjvLgGA"
      },
      "source": [
        "# Testing our model for portugal dataset\n",
        "\n",
        "We will go ahead and test on our logistic regression and selected ridgeCV features model since it gave the highest training accuracy. "
      ]
    },
    {
      "cell_type": "code",
      "execution_count": null,
      "metadata": {
        "colab": {
          "base_uri": "https://localhost:8080/"
        },
        "id": "nWy772Y_Lflm",
        "outputId": "7a513ad0-aa95-40f5-b1f8-e3d3cfb14a21"
      },
      "outputs": [
        {
          "name": "stdout",
          "output_type": "stream",
          "text": [
            "\n",
            "Testing accuracy for logistic regression using features selected with ridge regression: 0.47115384615384615\n",
            "\n",
            "\n",
            "Testing accuracy for support vector machine using features selected with ridge regression: 0.47115384615384615\n",
            "\n"
          ]
        }
      ],
      "source": [
        "from sklearn.linear_model import LogisticRegression\n",
        "\n",
        "#convert y values to categorical values\n",
        "lab = preprocessing.LabelEncoder()\n",
        "y_test_transformed = lab.fit_transform(y_test_portugal)\n",
        "\n",
        "#test on selected features via logistic regression\n",
        "print(f\"\\nTesting accuracy for logistic regression using features selected with ridge regression: {LogR_portugal_selected.score(X_test_portugal[selected_features_portugal], y_test_transformed)}\\n\")\n",
        "print(f\"\\nTesting accuracy for support vector machine using features selected with ridge regression: {SVC_portugal_selected.score(X_test_portugal[selected_features_portugal], y_test_transformed)}\\n\")\n"
      ]
    },
    {
      "attachments": {},
      "cell_type": "markdown",
      "metadata": {
        "id": "e0LF7BcvMglE"
      },
      "source": [
        "#### Let's test this model on a subset of our testing data to see how accurately it performs\n",
        "\n",
        "First we can pick a subset of our testing data, then use the built in predict method to see what values our model would anticipate."
      ]
    },
    {
      "cell_type": "code",
      "execution_count": null,
      "metadata": {
        "colab": {
          "base_uri": "https://localhost:8080/",
          "height": 489
        },
        "id": "x9D4dHbyJGza",
        "outputId": "3ab863ba-892e-487a-d38b-1698042ccc2f"
      },
      "outputs": [
        {
          "data": {
            "text/plain": [
              "Text(0.5, 1.0, '35.0% accurately predicted with Logistic Regression')"
            ]
          },
          "execution_count": 33,
          "metadata": {},
          "output_type": "execute_result"
        },
        {
          "data": {
            "image/png": "[encoded data removed]",
            "text/plain": [
              "<Figure size 640x480 with 1 Axes>"
            ]
          },
          "metadata": {},
          "output_type": "display_data"
        }
      ],
      "source": [
        "vizualization_subsetX = X_test_portugal[selected_features_portugal][0:20]\n",
        "actualVals = y_test_transformed[0:20]\n",
        "\n",
        "predictedVals = LogR_portugal_selected.predict(vizualization_subsetX)\n",
        "\n",
        "plt.scatter(x = np.arange(actualVals.size),y = predictedVals, c = \"red\", label = \"Predicted Values\")\n",
        "plt.scatter(x = np.arange(actualVals.size), y = actualVals, c = \"green\", label = \"Actual Values\")\n",
        "plt.ylabel(\"fire area (hectares)\")\n",
        "plt.xlabel(\"observation\")\n",
        "plt.xticks(np.arange(0, 21, 2.0))\n",
        "plt.legend(loc=\"upper left\")\n",
        "plt.title(f\"{LogR_portugal_selected.score(vizualization_subsetX,actualVals) * 100 }% accurately predicted with Logistic Regression\")"
      ]
    },
    {
      "attachments": {},
      "cell_type": "markdown",
      "metadata": {
        "id": "r3ZiW7I-N7TT"
      },
      "source": [
        "Let's repeat the same process but using our next best-performing model, the SVC trained on features selected with ridge regression."
      ]
    },
    {
      "cell_type": "code",
      "execution_count": null,
      "metadata": {
        "colab": {
          "base_uri": "https://localhost:8080/",
          "height": 489
        },
        "id": "8EUsOpK8NjKq",
        "outputId": "f2761e5a-858f-4aa2-f621-d7a26950d372"
      },
      "outputs": [
        {
          "data": {
            "text/plain": [
              "Text(0.5, 1.0, '35.0% accurately predicted with SVC')"
            ]
          },
          "execution_count": 34,
          "metadata": {},
          "output_type": "execute_result"
        },
        {
          "data": {
            "image/png": "[encoded data removed]",
            "text/plain": [
              "<Figure size 640x480 with 1 Axes>"
            ]
          },
          "metadata": {},
          "output_type": "display_data"
        }
      ],
      "source": [
        "svc_predictedVals = SVC_portugal_selected.predict(vizualization_subsetX)\n",
        "\n",
        "plt.scatter(x = np.arange(actualVals.size),y = svc_predictedVals, c = \"red\",label = \"Predicted Values\")\n",
        "plt.scatter(x = np.arange(actualVals.size), y = actualVals, c = \"green\",label = \"Actual Values\")\n",
        "plt.ylabel(\"fire area (hectares)\")\n",
        "plt.xlabel(\"observation\")\n",
        "plt.legend(loc=\"upper left\")\n",
        "plt.title(f\"{SVC_portugal_selected.score(vizualization_subsetX,actualVals) * 100}% accurately predicted with SVC\")"
      ]
    }
  ],
  "metadata": {
    "colab": {
      "include_colab_link": true,
      "provenance": []
    },
    "gpuClass": "standard",
    "kernelspec": {
      "display_name": "Python 3",
      "name": "python3"
    },
    "language_info": {
      "name": "python"
    }
  },
  "nbformat": 4,
  "nbformat_minor": 0
}
