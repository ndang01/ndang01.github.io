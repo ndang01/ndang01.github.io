{
 "cells": [
  {
   "cell_type": "raw",
   "metadata": {},
   "source": [
    "---\n",
    "title: Linear Regression \n",
    "author: Nhi Dang\n",
    "date: '2023-03-15'\n",
    "image: \"image.jpg\"\n",
    "description: \"A blog post that uses different machine learning models to determine the smallest number of measurements necessary to determine the species of a penguin.\"\n",
    "format: \n",
    "  html: \n",
    "    code-fold: show\n",
    "---"
   ]
  },
  {
   "cell_type": "code",
   "execution_count": null,
   "metadata": {},
   "outputs": [
    {
     "ename": "",
     "evalue": "",
     "output_type": "error",
     "traceback": [
      "\u001b[1;31mRunning cells with '/usr/bin/python3' requires the ipykernel package.\n",
      "\u001b[1;31mRun the following command to install 'ipykernel' into the Python environment. \n",
      "\u001b[1;31mCommand: '/usr/bin/python3 -m pip install ipykernel -U --user --force-reinstall'"
     ]
    }
   ],
   "source": [
    "import numpy as np\n",
    "from matplotlib import pyplot as plt\n",
    "\n",
    "def pad(X):\n",
    "    return np.append(X, np.ones((X.shape[0], 1)), 1)\n",
    "\n",
    "def LR_data(n_train = 100, n_val = 100, p_features = 1, noise = .1, w = None):\n",
    "    if w is None: \n",
    "        w = np.random.rand(p_features + 1) + .2\n",
    "    \n",
    "    X_train = np.random.rand(n_train, p_features)\n",
    "    y_train = pad(X_train)@w + noise*np.random.randn(n_train)\n",
    "\n",
    "    X_val = np.random.rand(n_val, p_features)\n",
    "    y_val = pad(X_val)@w + noise*np.random.randn(n_val)\n",
    "    \n",
    "    return X_train, y_train, X_val, y_val"
   ]
  },
  {
   "cell_type": "code",
   "execution_count": null,
   "metadata": {},
   "outputs": [
    {
     "ename": "",
     "evalue": "",
     "output_type": "error",
     "traceback": [
      "\u001b[1;31mRunning cells with '/usr/bin/python3' requires the ipykernel package.\n",
      "\u001b[1;31mRun the following command to install 'ipykernel' into the Python environment. \n",
      "\u001b[1;31mCommand: '/usr/bin/python3 -m pip install ipykernel -U --user --force-reinstall'"
     ]
    }
   ],
   "source": [
    "n_train = 100\n",
    "n_val = 100\n",
    "p_features = 1\n",
    "noise = 0.2\n",
    "\n",
    "# create some data\n",
    "X_train, y_train, X_val, y_val = LR_data(n_train, n_val, p_features, noise)\n",
    "\n",
    "# plot it\n",
    "fig, axarr = plt.subplots(1, 2, sharex = True, sharey = True)\n",
    "axarr[0].scatter(X_train, y_train)\n",
    "axarr[1].scatter(X_val, y_val)\n",
    "labs = axarr[0].set(title = \"Training\", xlabel = \"x\", ylabel = \"y\")\n",
    "labs = axarr[1].set(title = \"Validation\", xlabel = \"x\")\n",
    "plt.tight_layout()"
   ]
  },
  {
   "cell_type": "code",
   "execution_count": null,
   "metadata": {},
   "outputs": [
    {
     "ename": "",
     "evalue": "",
     "output_type": "error",
     "traceback": [
      "\u001b[1;31mRunning cells with '/usr/bin/python3' requires the ipykernel package.\n",
      "\u001b[1;31mRun the following command to install 'ipykernel' into the Python environment. \n",
      "\u001b[1;31mCommand: '/usr/bin/python3 -m pip install ipykernel -U --user --force-reinstall'"
     ]
    }
   ],
   "source": [
    "from solutions.linear_regression import LinearRegression\n",
    "\n",
    "LR = LinearRegression()\n",
    "LR.fit(X_train, y_train) # I used the analytical formula as my default fit method\n",
    "\n",
    "print(f\"Training score = {LR.score(X_train, y_train).round(4)}\")\n",
    "print(f\"Validation score = {LR.score(X_val, y_val).round(4)}\")"
   ]
  }
 ],
 "metadata": {
  "kernelspec": {
   "display_name": "ml-0451",
   "language": "python",
   "name": "python3"
  },
  "language_info": {
   "codemirror_mode": {
    "name": "ipython",
    "version": 3
   },
   "file_extension": ".py",
   "mimetype": "text/x-python",
   "name": "python",
   "nbconvert_exporter": "python",
   "pygments_lexer": "ipython3",
   "version": "3.9.6"
  },
  "orig_nbformat": 4
 },
 "nbformat": 4,
 "nbformat_minor": 2
}
