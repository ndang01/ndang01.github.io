{
 "cells": [
  {
   "cell_type": "code",
   "execution_count": 3,
   "metadata": {},
   "outputs": [
    {
     "data": {
      "text/plain": [
       "0.07740821212096205"
      ]
     },
     "execution_count": 3,
     "metadata": {},
     "output_type": "execute_result"
    }
   ],
   "source": [
    "import numpy as np\n",
    "\n",
    "def pad(X):\n",
    "    return np.append(X, np.ones((X.shape[0], 1)), 1)\n",
    "\n",
    "X = np.random.rand(10, 3)\n",
    "X = pad(X)\n",
    "w = np.random.rand(X.shape[1])\n",
    "\n",
    "y = X@w + np.random.randn(X.shape[0])\n",
    "\n",
    "def predict(X, w):\n",
    "    return X@w\n",
    "\n",
    "def score(X,y,w):\n",
    "    y_bar = y.mean()\n",
    "    y_hat = predict(X,w)\n",
    "\n",
    "    top = ((y_hat - y) ** 2 ).sum()\n",
    "    bottom = ((y_bar - y) ** 2 ).sum()\n",
    "    c = 1 - (top / bottom)\n",
    "\n",
    "    return c\n",
    "\n",
    "score(X, y, w)\n"
   ]
  }
 ],
 "metadata": {
  "kernelspec": {
   "display_name": "ml-0451",
   "language": "python",
   "name": "python3"
  },
  "language_info": {
   "codemirror_mode": {
    "name": "ipython",
    "version": 3
   },
   "file_extension": ".py",
   "mimetype": "text/x-python",
   "name": "python",
   "nbconvert_exporter": "python",
   "pygments_lexer": "ipython3",
   "version": "3.9.16"
  },
  "orig_nbformat": 4
 },
 "nbformat": 4,
 "nbformat_minor": 2
}
