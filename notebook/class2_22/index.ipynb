{
 "cells": [
  {
   "cell_type": "code",
   "execution_count": null,
   "metadata": {},
   "outputs": [],
   "source": [
    "import numpy as np\n",
    "import random \n",
    "\n",
    "alpha = 0.001;\n",
    "\n",
    "def f(x):\n",
    "    return np.sin(x[0]*x[1])\n",
    "\n",
    "def gradient_descent():\n",
    "   w = np.random.rand(2)\n",
    "\n",
    "   for i in range(1000):\n",
    "    w = w - alpha * gradient(w)\n",
    "\n",
    "    //np.array([   ,  ])\n"
   ]
  }
 ],
 "metadata": {
  "kernelspec": {
   "display_name": "Python 3",
   "language": "python",
   "name": "python3"
  },
  "language_info": {
   "name": "python",
   "version": "3.8.9"
  },
  "orig_nbformat": 4,
  "vscode": {
   "interpreter": {
    "hash": "31f2aee4e71d21fbe5cf8b01ff0e069b9275f58929596ceb00d14d90e3e16cd6"
   }
  }
 },
 "nbformat": 4,
 "nbformat_minor": 2
}
